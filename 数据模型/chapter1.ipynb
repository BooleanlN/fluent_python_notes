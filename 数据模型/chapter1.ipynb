{
 "cells": [
  {
   "cell_type": "markdown",
   "metadata": {},
   "source": [
    "namedtuple 方法可以用于构建只有少数属性但是没有方法的对象"
   ]
  },
  {
   "cell_type": "code",
   "execution_count": 1,
   "metadata": {
    "collapsed": true,
    "pycharm": {
     "is_executing": false
    }
   },
   "outputs": [],
   "source": [
    "import collections\n",
    "\n",
    "Card = collections.namedtuple('Card',['rank','suit'])"
   ]
  },
  {
   "cell_type": "code",
   "execution_count": 3,
   "metadata": {
    "pycharm": {
     "is_executing": false,
     "name": "#%%\n"
    }
   },
   "outputs": [],
   "source": [
    "card = Card('7','diamonds')"
   ]
  },
  {
   "cell_type": "code",
   "execution_count": 4,
   "metadata": {
    "pycharm": {
     "name": "#%%\n"
    }
   },
   "outputs": [
    {
     "data": {
      "text/plain": [
       "Card(rank='7', suit='diamonds')"
      ]
     },
     "execution_count": 4,
     "metadata": {},
     "output_type": "execute_result"
    }
   ],
   "source": [
    "card"
   ]
  },
  {
   "cell_type": "markdown",
   "metadata": {},
   "source": [
    "### 特殊方法\n",
    "在python语言当中，一些特殊方法，以双下划线开始，并以双下划线结尾，比如`__len__`，这些特殊方法能让我们的对象实现和支持以下的语言架构：\n",
    "- 迭代\n",
    "- 集合类\n",
    "- 属性访问\n",
    "- 运算符重载\n",
    "- 函数和方法的调用\n",
    "- 对象的创建和销毁\n",
    "- 字符串表示形式和格式化\n",
    "- 管理上下文\n",
    "#### 实例\n",
    "下面的例子中，在创建对象时，实现了`__len__`方法，使得可以调用len()函数，同样的，`__getitem__`使得该对象实例可迭代\n"
   ]
  },
  {
   "cell_type": "code",
   "execution_count": 18,
   "metadata": {},
   "outputs": [],
   "source": [
    "class FrenchCard:\n",
    "    ranks = [str(n) for n in range(2,11)] + list('JQKA')\n",
    "    suits = 'spade diamonds clubs hearts'.split()\n",
    "    \n",
    "    def __init__(self):\n",
    "        self._cards = [Card(rank,suit) for rank in self.ranks for suit in self.suits]\n",
    "    def __len__(self):\n",
    "        print(\"特殊方法__len__\")\n",
    "        return len(self._cards)\n",
    "    def __getitem__(self,position):\n",
    "        print(\"特殊方法__getitem__\")\n",
    "        return self._cards[position]"
   ]
  },
  {
   "cell_type": "code",
   "execution_count": 22,
   "metadata": {},
   "outputs": [
    {
     "name": "stdout",
     "output_type": "stream",
     "text": [
      "特殊方法__getitem__\n",
      "特殊方法__getitem__\n",
      "Card(rank='2', suit='spade')\n",
      "特殊方法__getitem__\n",
      "Card(rank='2', suit='diamonds')\n",
      "特殊方法__getitem__\n",
      "Card(rank='2', suit='clubs')\n",
      "特殊方法__getitem__\n",
      "Card(rank='2', suit='hearts')\n",
      "特殊方法__getitem__\n",
      "Card(rank='3', suit='spade')\n",
      "特殊方法__getitem__\n",
      "Card(rank='3', suit='diamonds')\n",
      "特殊方法__getitem__\n",
      "Card(rank='3', suit='clubs')\n",
      "特殊方法__getitem__\n",
      "Card(rank='3', suit='hearts')\n",
      "特殊方法__getitem__\n",
      "Card(rank='4', suit='spade')\n",
      "特殊方法__getitem__\n",
      "Card(rank='4', suit='diamonds')\n",
      "特殊方法__getitem__\n",
      "Card(rank='4', suit='clubs')\n",
      "特殊方法__getitem__\n",
      "Card(rank='4', suit='hearts')\n",
      "特殊方法__getitem__\n",
      "Card(rank='5', suit='spade')\n",
      "特殊方法__getitem__\n",
      "Card(rank='5', suit='diamonds')\n",
      "特殊方法__getitem__\n",
      "Card(rank='5', suit='clubs')\n",
      "特殊方法__getitem__\n",
      "Card(rank='5', suit='hearts')\n",
      "特殊方法__getitem__\n",
      "Card(rank='6', suit='spade')\n",
      "特殊方法__getitem__\n",
      "Card(rank='6', suit='diamonds')\n",
      "特殊方法__getitem__\n",
      "Card(rank='6', suit='clubs')\n",
      "特殊方法__getitem__\n",
      "Card(rank='6', suit='hearts')\n",
      "特殊方法__getitem__\n",
      "Card(rank='7', suit='spade')\n",
      "特殊方法__getitem__\n",
      "Card(rank='7', suit='diamonds')\n",
      "特殊方法__getitem__\n",
      "Card(rank='7', suit='clubs')\n",
      "特殊方法__getitem__\n",
      "Card(rank='7', suit='hearts')\n",
      "特殊方法__getitem__\n",
      "Card(rank='8', suit='spade')\n",
      "特殊方法__getitem__\n",
      "Card(rank='8', suit='diamonds')\n",
      "特殊方法__getitem__\n",
      "Card(rank='8', suit='clubs')\n",
      "特殊方法__getitem__\n",
      "Card(rank='8', suit='hearts')\n",
      "特殊方法__getitem__\n",
      "Card(rank='9', suit='spade')\n",
      "特殊方法__getitem__\n",
      "Card(rank='9', suit='diamonds')\n",
      "特殊方法__getitem__\n",
      "Card(rank='9', suit='clubs')\n",
      "特殊方法__getitem__\n",
      "Card(rank='9', suit='hearts')\n",
      "特殊方法__getitem__\n",
      "Card(rank='10', suit='spade')\n",
      "特殊方法__getitem__\n",
      "Card(rank='10', suit='diamonds')\n",
      "特殊方法__getitem__\n",
      "Card(rank='10', suit='clubs')\n",
      "特殊方法__getitem__\n",
      "Card(rank='10', suit='hearts')\n",
      "特殊方法__getitem__\n",
      "Card(rank='J', suit='spade')\n",
      "特殊方法__getitem__\n",
      "Card(rank='J', suit='diamonds')\n",
      "特殊方法__getitem__\n",
      "Card(rank='J', suit='clubs')\n",
      "特殊方法__getitem__\n",
      "Card(rank='J', suit='hearts')\n",
      "特殊方法__getitem__\n",
      "Card(rank='Q', suit='spade')\n",
      "特殊方法__getitem__\n",
      "Card(rank='Q', suit='diamonds')\n",
      "特殊方法__getitem__\n",
      "Card(rank='Q', suit='clubs')\n",
      "特殊方法__getitem__\n",
      "Card(rank='Q', suit='hearts')\n",
      "特殊方法__getitem__\n",
      "Card(rank='K', suit='spade')\n",
      "特殊方法__getitem__\n",
      "Card(rank='K', suit='diamonds')\n",
      "特殊方法__getitem__\n",
      "Card(rank='K', suit='clubs')\n",
      "特殊方法__getitem__\n",
      "Card(rank='K', suit='hearts')\n",
      "特殊方法__getitem__\n",
      "Card(rank='A', suit='spade')\n",
      "特殊方法__getitem__\n",
      "Card(rank='A', suit='diamonds')\n",
      "特殊方法__getitem__\n",
      "Card(rank='A', suit='clubs')\n",
      "特殊方法__getitem__\n",
      "Card(rank='A', suit='hearts')\n",
      "特殊方法__getitem__\n"
     ]
    }
   ],
   "source": [
    "fcard = FrenchCard()\n",
    "fcard[0]\n",
    "for card in fcard:\n",
    "    print(card)"
   ]
  },
  {
   "cell_type": "code",
   "execution_count": 20,
   "metadata": {},
   "outputs": [
    {
     "name": "stdout",
     "output_type": "stream",
     "text": [
      "特殊方法__len__\n"
     ]
    },
    {
     "data": {
      "text/plain": [
       "52"
      ]
     },
     "execution_count": 20,
     "metadata": {},
     "output_type": "execute_result"
    }
   ],
   "source": [
    "len(fcard)"
   ]
  },
  {
   "cell_type": "markdown",
   "metadata": {},
   "source": [
    "### 常用的特殊方法\n",
    "#### 字符串相关：\n",
    " - `__repr__`：解释器或命令行调用，方便开发者调试和记录日志\n",
    " - `__str__`：print方法调用，给终端用户查看\n",
    " - `__format__`\n",
    "#### 数值转换\n",
    " - `__abs__`：调用abs方法调用该特殊方法\n",
    " - `__int__`\n",
    " - `__bool__`：调用bool()\n",
    "#### 集合模拟\n",
    " - `__len__`：调用len方法\n",
    " - `__getitem__`\n",
    " - `__setitem__`\n",
    " - `__delitem__`\n",
    " - `__contains__`：in\n",
    "#### 迭代枚举\n",
    " - `__iter__`\n",
    "#### 可调用模块\n",
    " - `__call__`\n",
    "#### 实例相关\n",
    " - `__new__`\n",
    " - `__init__`\n",
    " - `__del__`\n",
    "#### 运算符\n",
    " - `__add__`\n",
    " - `__mul__`\n",
    " - `__sub__`\n",
    " "
   ]
  },
  {
   "cell_type": "code",
   "execution_count": 23,
   "metadata": {},
   "outputs": [],
   "source": [
    "from math import hypot\n",
    "\n",
    "class Vector():\n",
    "    def __init__(self,x=0,y=0):\n",
    "        self.x = x\n",
    "        self.y = y\n",
    "    def __repr__(self):\n",
    "        return \"The Vector is (%r,%r)\" % (self.x,self.y)\n",
    "    def __abs__(self):\n",
    "        return hypot(self.x,self.y)\n",
    "    def __bool__(self):\n",
    "        return bool(abs(self))\n",
    "    def __add__(self,other):\n",
    "        x = self.x + other.x\n",
    "        y = self.y + other.y\n",
    "        return Vector(x,y)\n",
    "    def __mul__(self,scalar):\n",
    "        return Vector(self.x * scalar,self.y * scalar)"
   ]
  },
  {
   "cell_type": "code",
   "execution_count": 25,
   "metadata": {},
   "outputs": [],
   "source": [
    "a = Vector(1,2)\n",
    "b = Vector(2,3)"
   ]
  },
  {
   "cell_type": "code",
   "execution_count": 27,
   "metadata": {},
   "outputs": [
    {
     "data": {
      "text/plain": [
       "The Vector is (3,5)"
      ]
     },
     "execution_count": 27,
     "metadata": {},
     "output_type": "execute_result"
    }
   ],
   "source": [
    "c = a + b\n",
    "c"
   ]
  },
  {
   "cell_type": "code",
   "execution_count": 28,
   "metadata": {},
   "outputs": [
    {
     "data": {
      "text/plain": [
       "The Vector is (2,4)"
      ]
     },
     "execution_count": 28,
     "metadata": {},
     "output_type": "execute_result"
    }
   ],
   "source": [
    "d = a * 2\n",
    "d"
   ]
  },
  {
   "cell_type": "code",
   "execution_count": 29,
   "metadata": {},
   "outputs": [
    {
     "data": {
      "text/plain": [
       "2.23606797749979"
      ]
     },
     "execution_count": 29,
     "metadata": {},
     "output_type": "execute_result"
    }
   ],
   "source": [
    "abs(a)"
   ]
  },
  {
   "cell_type": "code",
   "execution_count": null,
   "metadata": {},
   "outputs": [],
   "source": []
  }
 ],
 "metadata": {
  "kernelspec": {
   "display_name": "Python 3",
   "language": "python",
   "name": "python3"
  },
  "language_info": {
   "codemirror_mode": {
    "name": "ipython",
    "version": 3
   },
   "file_extension": ".py",
   "mimetype": "text/x-python",
   "name": "python",
   "nbconvert_exporter": "python",
   "pygments_lexer": "ipython3",
   "version": "3.7.6"
  },
  "pycharm": {
   "stem_cell": {
    "cell_type": "raw",
    "metadata": {
     "collapsed": false
    },
    "source": []
   }
  }
 },
 "nbformat": 4,
 "nbformat_minor": 1
}
