{
 "cells": [
  {
   "cell_type": "markdown",
   "metadata": {
    "collapsed": true,
    "pycharm": {
     "is_executing": false
    }
   },
   "source": [
    "#### 切片\n",
    "序列类型都支持切片操作\n",
    "```python\n",
    "seq[start:stop:step]\n",
    "```\n",
    "切取长度为(stop - start)# step = 1 <br>\n",
    "\n",
    "step的正负表示切取方向，大小则表示切取间隔，在使用切片操作时，实际上是调用了`__getitem__(slice(start,stop,step))`方法，slice是切片对象 <br>\n",
    "\n",
    "切片的其他特性方法：（在numpy等库中使用）\n",
    "- 多维切片，使用以逗号分隔的多个索引或者切片\n",
    "- 省略\n"
   ]
  },
  {
   "cell_type": "code",
   "execution_count": 1,
   "metadata": {
    "pycharm": {
     "name": "#%%\n",
     "is_executing": false
    }
   },
   "outputs": [
    {
     "data": {
      "text/plain": "[0, 1, 2, 3, 4, 5, 6, 7, 8, 9]"
     },
     "metadata": {},
     "output_type": "execute_result",
     "execution_count": 1
    }
   ],
   "source": [
    "l = list(range(10))\n",
    "l"
   ]
  },
  {
   "cell_type": "code",
   "execution_count": 3,
   "metadata": {},
   "outputs": [
    {
     "data": {
      "text/plain": [
       "[0, 1, 5, 3, 4, 5, 6, 7, 8, 9]"
      ]
     },
     "execution_count": 3,
     "metadata": {},
     "output_type": "execute_result"
    }
   ],
   "source": [
    "#就地修改序列\n",
    "l[2:3] = [5] # 右侧必须是一个可迭代对象\n",
    "l"
   ]
  },
  {
   "cell_type": "code",
   "execution_count": 5,
   "metadata": {},
   "outputs": [
    {
     "data": {
      "text/plain": [
       "[0, 1, 1, 0, 6, 7, 8, 9]"
      ]
     },
     "execution_count": 5,
     "metadata": {},
     "output_type": "execute_result"
    }
   ],
   "source": [
    "l[2:5] = [1,0] #数目无需匹配\n",
    "l"
   ]
  },
  {
   "cell_type": "markdown",
   "metadata": {},
   "source": [
    "#### 对序列使用 + 和 *\n",
    "使用 + 号，可以拼接两个序列，* 可以将原序列复制若干份，这两类操作，都不会改变原来的序列，而是构建一个全新的序列"
   ]
  },
  {
   "cell_type": "code",
   "execution_count": 8,
   "metadata": {},
   "outputs": [
    {
     "data": {
      "text/plain": [
       "([1, 2, 3, 'a', 'b', 'c'], [1, 2, 3], [1, 2, 3, 1, 2, 3, 1, 2, 3], [1, 2, 3])"
      ]
     },
     "execution_count": 8,
     "metadata": {},
     "output_type": "execute_result"
    }
   ],
   "source": [
    "a = [1,2,3]\n",
    "b = ['a','b','c']\n",
    "a+b,a,a*3,a"
   ]
  },
  {
   "cell_type": "markdown",
   "metadata": {},
   "source": [
    "当使用*复制引用类对象时，需要注意，此时复制的引用与原来的引用指向的是同一个对象"
   ]
  },
  {
   "cell_type": "code",
   "execution_count": 9,
   "metadata": {},
   "outputs": [
    {
     "data": {
      "text/plain": [
       "([Card(name='face', color='white'),\n",
       "  1,\n",
       "  2,\n",
       "  [],\n",
       "  Card(name='face', color='white'),\n",
       "  1,\n",
       "  2,\n",
       "  []],\n",
       " [Card(name='face', color='white'), 1, 2, []])"
      ]
     },
     "execution_count": 9,
     "metadata": {},
     "output_type": "execute_result"
    }
   ],
   "source": [
    "import collections\n",
    "Card = collections.namedtuple('Card','name color')\n",
    "poker = Card('face','white')\n",
    "c = [poker,1,2,[]]\n",
    "d = c * 2\n",
    "d,c"
   ]
  },
  {
   "cell_type": "code",
   "execution_count": 12,
   "metadata": {
    "scrolled": true
   },
   "outputs": [
    {
     "data": {
      "text/plain": [
       "([Card(name='face', color='white'),\n",
       "  1,\n",
       "  2,\n",
       "  [2, 2],\n",
       "  Card(name='face', color='white'),\n",
       "  1,\n",
       "  2,\n",
       "  [2, 2]],\n",
       " [Card(name='face', color='white'), 1, 2, [2, 2]])"
      ]
     },
     "execution_count": 12,
     "metadata": {},
     "output_type": "execute_result"
    }
   ],
   "source": [
    "d[3].append(2) # 可以看出，复制的内容和原内容指向同一块内存地址\n",
    "d,c"
   ]
  },
  {
   "cell_type": "markdown",
   "metadata": {},
   "source": [
    "#### 序列的增量赋值\n",
    "+=、*=的表现取决于它们的第一个操作对象，+=背后的特殊方法是`__iadd__`，如果操作对象没有实现该方法，会退而求其次选择`__add__`,*=背后的特殊方法则是`__imul__` <br>\n",
    "当使用`__iadd__`时，增量赋值，会对操作对象进行就地修改，而`__add__`则会创建一个新的对象赋值给操作对象<br>\n",
    "可变序列一般都实现了`__iadd__`等方法，如果是不可变序列，则因为其不可变特性，不支持就地修改\n",
    "（str是个例，CPython对其进行了优化，在创建时会预留出额外的可拓展空间，因此进行增量操作时，不会涉及复制字符串到新位置的操作?）"
   ]
  },
  {
   "cell_type": "code",
   "execution_count": 14,
   "metadata": {},
   "outputs": [
    {
     "data": {
      "text/plain": [
       "([1, 2, 3, 'a', 'b', 'c'], [1, 2, 3, 'a', 'b', 'c'])"
      ]
     },
     "execution_count": 14,
     "metadata": {},
     "output_type": "execute_result"
    }
   ],
   "source": [
    "a = [1,2,3]\n",
    "c = [1,2,3]\n",
    "b = ['a','b','c']\n",
    "a+=b\n",
    "c.extend(b)\n",
    "a,c #+= 想当于 extend"
   ]
  },
  {
   "cell_type": "code",
   "execution_count": 17,
   "metadata": {},
   "outputs": [
    {
     "name": "stdout",
     "output_type": "stream",
     "text": [
      "4346752688\n",
      "4376556048\n"
     ]
    }
   ],
   "source": [
    "d = (1,2,3)\n",
    "print(id(d))\n",
    "d += tuple(b)\n",
    "print(id(d)) # 创建了一个新对象返回，调用的是__add__"
   ]
  },
  {
   "cell_type": "code",
   "execution_count": 22,
   "metadata": {},
   "outputs": [
    {
     "name": "stdout",
     "output_type": "stream",
     "text": [
      "4377041008\n",
      "4401395248\n"
     ]
    },
    {
     "data": {
      "text/plain": [
       "'abcdefg'"
      ]
     },
     "execution_count": 22,
     "metadata": {},
     "output_type": "execute_result"
    }
   ],
   "source": [
    "str1 = 'abcdef'\n",
    "print(id(str1))\n",
    "str1 +='g'\n",
    "print(id(str1))\n",
    "str1"
   ]
  },
  {
   "cell_type": "markdown",
   "metadata": {},
   "source": [
    "#### list.sort 与 sorted\n",
    "列表排序方法，`list.sort`会就地排序列表，返回值是None <br>\n",
    "内置函数`sorted`则会新建一个列表作为返回值，可以接受任何形式的可迭代对象作为参数，包括不可变序列或生成器，最后返回都是一个列表<br>\n",
    "```python\n",
    "list.sort(cmp=None,key=None,reverse=False) #2.7版本\n",
    "sorted(iterable,cmp=None,key=None,reverse=False) #2.7版本\n",
    "#3.x版本移除了cmp参数，如果必须使用cmp，可以使用functools中的cmp_to_key，将cmp转为key传给函数\n",
    "```\n",
    "- cmp 比较使用的方法\n",
    "- key 比较的元素\n",
    "- reverse True=从大到小降序输出"
   ]
  },
  {
   "cell_type": "code",
   "execution_count": 23,
   "metadata": {},
   "outputs": [
    {
     "data": {
      "text/plain": [
       "[(1, 'a'), (2, 'c'), (3, 'b'), (4, 'd')]"
      ]
     },
     "execution_count": 23,
     "metadata": {},
     "output_type": "execute_result"
    }
   ],
   "source": [
    "a = [(1,'a'),(2,'c'),(4,'d'),(3,'b')]\n",
    "a.sort() #默认以第一个元素，以字典序进行排序\n",
    "a"
   ]
  },
  {
   "cell_type": "code",
   "execution_count": 40,
   "metadata": {},
   "outputs": [
    {
     "data": {
      "text/plain": [
       "([(1, 'a'), (3, 'b'), (2, 'c'), (4, 'd')],\n",
       " [(1, 'a'), (3, 'b'), (2, 'c'), (4, 'd')])"
      ]
     },
     "execution_count": 40,
     "metadata": {},
     "output_type": "execute_result"
    }
   ],
   "source": [
    "a = [(1,'a'),(2,'c'),(4,'d'),(3,'b')]\n",
    "b = sorted(a,key=lambda x:x[1])\n",
    "a.sort(key=lambda x:x[1]) # \n",
    "a,b"
   ]
  },
  {
   "cell_type": "code",
   "execution_count": 47,
   "metadata": {},
   "outputs": [
    {
     "data": {
      "text/plain": [
       "([1, 2, 3, 4, 5], ['a', 'b', 'c', 'd', 'e'])"
      ]
     },
     "execution_count": 47,
     "metadata": {},
     "output_type": "execute_result"
    }
   ],
   "source": [
    "c = (4,5,2,1,3)\n",
    "st1 = 'adcbe'\n",
    "sorted(c),sorted(st1) #返回列表,原对象不可变"
   ]
  },
  {
   "cell_type": "code",
   "execution_count": 61,
   "metadata": {},
   "outputs": [
    {
     "data": {
      "text/plain": [
       "[(1, 'a'), (2, 'c'), (3, 'b'), (4, 'd')]"
      ]
     },
     "execution_count": 61,
     "metadata": {},
     "output_type": "execute_result"
    }
   ],
   "source": [
    "from functools import cmp_to_key\n",
    "a = [(1,'a'),(2,'c'),(4,'d'),(3,'b')]\n",
    "b = sorted(a,key=cmp_to_key(lambda x,y:x[0]-y[0]))\n",
    "b"
   ]
  },
  {
   "cell_type": "markdown",
   "metadata": {},
   "source": [
    "#### 使用bisect管理已排序的序列\n",
    "bisect模块有两个主要方法，一个是bisect，使用二分查找算法，返回插入的位置，该位置保证元素插入后，不影响原序列的排列 <br>\n",
    "另一个是insort，同样使用二分查找算法找到插入位置，并将元素插入。\n",
    "```python\n",
    "bisect(literable,x,lo=0,hi=len(iterable)) # lo,hi可划定序列查找插入点的范围\n",
    "insort(literable,x,lo=0,hi=len(iterable))\n",
    "```"
   ]
  },
  {
   "cell_type": "code",
   "execution_count": 62,
   "metadata": {},
   "outputs": [
    {
     "data": {
      "text/plain": [
       "3"
      ]
     },
     "execution_count": 62,
     "metadata": {},
     "output_type": "execute_result"
    }
   ],
   "source": [
    "a = [4,5,6,2,1,3,7]\n",
    "a.sort()\n",
    "import bisect\n",
    "bisect.bisect(a,3)#返回插入点的索引 "
   ]
  },
  {
   "cell_type": "code",
   "execution_count": 63,
   "metadata": {},
   "outputs": [
    {
     "data": {
      "text/plain": [
       "[1, 2, 3, 3, 4, 5, 6, 7]"
      ]
     },
     "execution_count": 63,
     "metadata": {},
     "output_type": "execute_result"
    }
   ],
   "source": [
    "bisect.insort(a,3)\n",
    "a"
   ]
  },
  {
   "cell_type": "code",
   "execution_count": 67,
   "metadata": {},
   "outputs": [
    {
     "name": "stdout",
     "output_type": "stream",
     "text": [
      "2\n"
     ]
    },
    {
     "data": {
      "text/plain": [
       "4"
      ]
     },
     "execution_count": 67,
     "metadata": {},
     "output_type": "execute_result"
    }
   ],
   "source": [
    "print(bisect.bisect_left(a,3))#找到的位置在与该元素相等的元素左边 default\n",
    "bisect.bisect_right(a,3) #找到的位置在与该元素相等的元素右边"
   ]
  },
  {
   "cell_type": "code",
   "execution_count": 68,
   "metadata": {},
   "outputs": [
    {
     "data": {
      "text/plain": [
       "[1, 2, 3, 3, 3, 3, 4, 5, 6, 7]"
      ]
     },
     "execution_count": 68,
     "metadata": {},
     "output_type": "execute_result"
    }
   ],
   "source": [
    "bisect.insort_left(a,3)\n",
    "bisect.insort_right(a,3)\n",
    "a"
   ]
  },
  {
   "cell_type": "code",
   "execution_count": null,
   "metadata": {},
   "outputs": [],
   "source": []
  }
 ],
 "metadata": {
  "kernelspec": {
   "display_name": "Python 3",
   "language": "python",
   "name": "python3"
  },
  "language_info": {
   "codemirror_mode": {
    "name": "ipython",
    "version": 3
   },
   "file_extension": ".py",
   "mimetype": "text/x-python",
   "name": "python",
   "nbconvert_exporter": "python",
   "pygments_lexer": "ipython3",
   "version": "3.7.6"
  },
  "pycharm": {
   "stem_cell": {
    "cell_type": "raw",
    "source": [],
    "metadata": {
     "collapsed": false
    }
   }
  }
 },
 "nbformat": 4,
 "nbformat_minor": 1
}