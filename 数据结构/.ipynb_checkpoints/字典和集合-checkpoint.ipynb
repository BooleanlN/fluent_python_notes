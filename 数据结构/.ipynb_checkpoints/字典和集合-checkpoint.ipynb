{
 "cells": [
  {
   "cell_type": "markdown",
   "metadata": {},
   "source": [
    "### 💕字典和集合\n",
    "#### 🤯泛映射类型\n",
    "在collections.abc模块内，构建了Mapping和MutableMapping两个抽象基类，它们为dict和其他类似类型定义了形式接口 <br>\n",
    "映射类型的背后是哈希表结构，对于映射类型，要求键值必须是可哈希的，如果一个对象是可哈希的，那么在该对象生命周期中，hash值应该是不可变的(充分必要条件)<br>\n",
    "原子不可变数据类型 str、bytes、数值类型都是可散列类型，当元组中值都是可散列的，那么它也是可散列的，frozenset也是可散列的。"
   ]
  },
  {
   "cell_type": "code",
   "execution_count": null,
   "metadata": {
    "pycharm": {
     "name": "#%%\n"
    }
   },
   "outputs": [],
   "source": [
    "t1 = (1,2,3,(2,6))\n",
    "dictionary = {1:'2','aa':'b',bytes(b'aaa'):'c',t1:'4'}\n",
    "dictionary"
   ]
  },
  {
   "cell_type": "code",
   "execution_count": null,
   "metadata": {
    "pycharm": {
     "name": "#%%\n"
    }
   },
   "outputs": [],
   "source": [
    "# 🙈创建字典的不同方式\n",
    "a = dict(a=1,b=2)\n",
    "b = {'a':1,'b':2}\n",
    "c = dict(zip(['a','b'],[1,2]))\n",
    "d = dict([('a',1),('b',2)])\n",
    "e = dict({'a':1,'b':2})\n",
    "a == b == c == d == e"
   ]
  },
  {
   "cell_type": "code",
   "execution_count": 1,
   "metadata": {},
   "outputs": [
    {
     "data": {
      "text/plain": [
       "{1: '2', 'aa': 'b', b'aaa': 'c', (1, 2, 3, (2, 6)): '4'}"
      ]
     },
     "execution_count": 1,
     "metadata": {},
     "output_type": "execute_result"
    }
   ],
   "source": [
    "t1 = (1,2,3,(2,6))\n",
    "dictionary = {1:'2','aa':'b',bytes(b'aaa'):'c',t1:'4'}\n",
    "dictionary"
   ]
  },
  {
   "cell_type": "code",
   "execution_count": 2,
   "metadata": {},
   "outputs": [
    {
     "data": {
      "text/plain": [
       "True"
      ]
     },
     "execution_count": 2,
     "metadata": {},
     "output_type": "execute_result"
    }
   ],
   "source": [
    "# 🙈创建字典的不同方式\n",
    "a = dict(a=1,b=2)\n",
    "b = {'a':1,'b':2}\n",
    "c = dict(zip(['a','b'],[1,2]))\n",
    "d = dict([('a',1),('b',2)])\n",
    "e = dict({'a':1,'b':2})\n",
    "a == b == c == d == e"
   ]
  },
  {
   "cell_type": "markdown",
   "metadata": {},
   "source": [
    "#### 字典推导\n",
    "🧐字典推导可以从任何以键值对作为元素的可迭代对象中构建出字典"
   ]
  },
  {
   "cell_type": "code",
   "execution_count": 3,
   "metadata": {},
   "outputs": [
    {
     "data": {
      "text/plain": [
       "{'Beijing': 86, 'Tianjin': 78, 'Taiyuan': 45, 'Xiamen': 91}"
      ]
     },
     "execution_count": 3,
     "metadata": {},
     "output_type": "execute_result"
    }
   ],
   "source": [
    "DIAL_CODES = [\n",
    "    (86,'Beijing'),\n",
    "    (78,'Tianjin'),\n",
    "    (45,'Taiyuan'),\n",
    "    (91,'Xiamen')\n",
    "]\n",
    "city_dict = {city:code for code,city in DIAL_CODES }\n",
    "city_dict"
   ]
  },
  {
   "cell_type": "code",
   "execution_count": 4,
   "metadata": {},
   "outputs": [
    {
     "data": {
      "text/plain": [
       "{86: 'BEIJING', 78: 'TIANJIN', 45: 'TAIYUAN', 91: 'XIAMEN'}"
      ]
     },
     "execution_count": 4,
     "metadata": {},
     "output_type": "execute_result"
    }
   ],
   "source": [
    "city_dict = {code:city.upper() for code,city in DIAL_CODES }\n",
    "city_dict"
   ]
  },
  {
   "cell_type": "markdown",
   "metadata": {},
   "source": [
    "#### setdefault方法\n",
    "setdefault方法，若字典中包含键k，则把它对应的值设置为default，然后返回这个值；若无，则让d[k] = default，然后返回default <br>\n",
    "在我们需要给更新某个键对应的值的时候，使用setdefault比通过get方法，再进行赋值的效率要高"
   ]
  },
  {
   "cell_type": "code",
   "execution_count": 10,
   "metadata": {},
   "outputs": [
    {
     "data": {
      "text/plain": [
       "('Wuhan',\n",
       " {86: 'BEIJING', 78: 'TIANJIN', 45: 'TAIYUAN', 91: 'XIAMEN', 81: 'Wuhan'})"
      ]
     },
     "execution_count": 10,
     "metadata": {},
     "output_type": "execute_result"
    }
   ],
   "source": [
    "city_dict.get(81,'Wuhan'),city_dict # 如果没有键k，返回default"
   ]
  },
  {
   "cell_type": "code",
   "execution_count": 12,
   "metadata": {},
   "outputs": [
    {
     "data": {
      "text/plain": [
       "{86: 'BEIJING', 78: 'TIANJIN', 45: 'TAIYUAN', 91: 'XIAMEN', 81: 'Wuhan'}"
      ]
     },
     "execution_count": 12,
     "metadata": {},
     "output_type": "execute_result"
    }
   ],
   "source": [
    "# 对字典赋值\n",
    "city_dict[81] = 'Wuhan' # 整个赋值过程涉及两次查询\n",
    "city_dict "
   ]
  },
  {
   "cell_type": "code",
   "execution_count": 13,
   "metadata": {},
   "outputs": [
    {
     "data": {
      "text/plain": [
       "{86: 'BEIJING',\n",
       " 78: 'TIANJIN',\n",
       " 45: 'TAIYUAN',\n",
       " 91: 'XIAMEN',\n",
       " 81: 'Wuhan',\n",
       " 82: 'Jinzhou'}"
      ]
     },
     "execution_count": 13,
     "metadata": {},
     "output_type": "execute_result"
    }
   ],
   "source": [
    "city_dict.setdefault(82,'Jinzhou') # 只需要一次查询即可\n",
    "city_dict"
   ]
  },
  {
   "cell_type": "markdown",
   "metadata": {},
   "source": [
    "#### OrderedDict\n",
    "这个类型在添加键的时候，会保持键的加入顺序，因此键的迭代次序总是一致的"
   ]
  },
  {
   "cell_type": "code",
   "execution_count": 27,
   "metadata": {},
   "outputs": [
    {
     "data": {
      "text/plain": [
       "('a', 1)"
      ]
     },
     "execution_count": 27,
     "metadata": {},
     "output_type": "execute_result"
    }
   ],
   "source": [
    "import collections\n",
    "oDict = collections.OrderedDict()\n",
    "oDict['a'] = 1\n",
    "oDict['c'] = 3\n",
    "oDict['b'] = 2\n",
    "oDict.popitem() # 删除并返回最后一个元素\n",
    "oDict.popitem(last=False) # 删除并返回第一个元素"
   ]
  },
  {
   "cell_type": "markdown",
   "metadata": {},
   "source": [
    "#### ChainMap\n",
    "这个类型可以容纳数个不同的映射对象，然后在进行键查找操作的时候，这些对象会被当作一个整体被逐个查找，直到键被找到为止，一个应用就是作用链"
   ]
  },
  {
   "cell_type": "code",
   "execution_count": 31,
   "metadata": {},
   "outputs": [
    {
     "data": {
      "text/plain": [
       "ChainMap({'__name__': '__main__', '__doc__': 'Automatically created module for IPython interactive environment', '__package__': None, '__loader__': None, '__spec__': None, '__builtin__': <module 'builtins' (built-in)>, '__builtins__': <module 'builtins' (built-in)>, '_ih': ['', \"t1 = (1,2,3,(2,6))\\ndictionary = {1:'2','aa':'b',bytes(b'aaa'):'c',t1:'4'}\\ndictionary\", \"# 🙈创建字典的不同方式\\na = dict(a=1,b=2)\\nb = {'a':1,'b':2}\\nc = dict(zip(['a','b'],[1,2]))\\nd = dict([('a',1),('b',2)])\\ne = dict({'a':1,'b':2})\\na == b == c == d == e\", \"DIAL_CODES = [\\n    (86,'Beijing'),\\n    (78,'Tianjin'),\\n    (45,'Taiyuan'),\\n    (91,'Xiamen')\\n]\\ncity_dict = {city:code for code,city in DIAL_CODES }\\ncity_dict\", 'city_dict = {code:city.upper() for code,city in DIAL_CODES }\\ncity_dict', '#### setdefault方法\\nsetdefault方法，若字典中包含键k，则把它对应的值设置为default，然后返回这个值；若无，则让d[k] = default，然后返回default', \"city_dict.get(81,'Wuhan')\", 'city_dict', \"city_dict.setdefault(81,'Wuhan')\", \"city_dict.setdefault(81,'Wuhan')\\ncity_dict\", \"city_dict.get(81,'Wuhan'),city_dict # 如果没有键k，返回default\", \"# 对字典赋值\\ncity_dict[81] = 'Wuhan' \", \"# 对字典赋值\\ncity_dict[81] = 'Wuhan' \\ncity_dict\", \"city_dict.setdefault(82,'Jinzhou') # 只需要一次查询即可\\ncity_dict\", \"oDict = {'a':1,'c':3,'b':2}\\noDict\", \"oDict = collections.OrderedDict({'a':1,'c':3,'b':2})\\noDict\", \"import collections\\noDict = collections.OrderedDict({'a':1,'c':3,'b':2})\\noDict\", \"import collections\\noDict = collections.OrderedDict({'a':1,'c':3,'b':2})\\noDict\", 'import collections\\noDict = collections.OrderedDict()\\noDict', \"import collections\\noDict = collections.OrderedDict()\\noDict['a'] = 1\\noDict\", \"import collections\\noDict = collections.OrderedDict()\\noDict['a'] = 1\\noDict['c'] = 2\\noDict['b'] = 3\\noDict\", \"import collections\\noDict = collections.OrderedDict()\\noDict['a'] = 1\\noDict['c'] = 2\\noDict['b'] = 3\\noDict.keys()\", \"import collections\\noDict = collections.OrderedDict()\\noDict['a'] = 1\\noDict['c'] = 2\\noDict['b'] = 3\\noDict.popitem()\", \"import collections\\noDict = collections.OrderedDict()\\noDict['a'] = 1\\noDict['c'] = 3\\noDict['b'] = 2\\noDict.popitem()\", \"import collections\\noDict = collections.OrderedDict(key=lambda x:x[0])\\noDict['a'] = 1\\noDict['c'] = 3\\noDict['b'] = 2\\noDict.popitem()\", \"import collections\\noDict = collections.OrderedDict(key=lambda x:x[0])\\noDict['a'] = 1\\noDict['c'] = 3\\noDict['b'] = 2\\noDict.popitem()\", \"import collections\\noDict = collections.OrderedDict(key=lambda x:x[0])\\noDict['a'] = 1\\noDict['c'] = 3\\noDict['b'] = 2\\noDict.popitem() # 删除并返回最后一个元素\\noDict.popitem(last=False) # 删除并返回第一个元素\", \"import collections\\noDict = collections.OrderedDict()\\noDict['a'] = 1\\noDict['c'] = 3\\noDict['b'] = 2\\noDict.popitem() # 删除并返回最后一个元素\\noDict.popitem(last=False) # 删除并返回第一个元素\", '#### ChainMap\\n这个类型可以容纳数个不同的映射对象，然后在进行键查找操作的时候，这些对象会被当作一个整体被逐个查找，直到键被找到为止', 'import builtins\\npylookup = collections.ChainMap(locals(),globals(),var(builtins))', 'import builtins\\npylookup = collections.ChainMap(locals(),globals(),vars(builtins))', 'import builtins\\npylookup = collections.ChainMap(locals(),globals(),vars(builtins))\\npylookup'], '_oh': {1: {1: '2', 'aa': 'b', b'aaa': 'c', (1, 2, 3, (2, 6)): '4'}, 2: True, 3: {'Beijing': 86, 'Tianjin': 78, 'Taiyuan': 45, 'Xiamen': 91}, 4: {86: 'BEIJING', 78: 'TIANJIN', 45: 'TAIYUAN', 91: 'XIAMEN', 81: 'Wuhan', 82: 'Jinzhou'}, 6: 'Wuhan', 7: {86: 'BEIJING', 78: 'TIANJIN', 45: 'TAIYUAN', 91: 'XIAMEN', 81: 'Wuhan', 82: 'Jinzhou'}, 8: 'Wuhan', 9: {86: 'BEIJING', 78: 'TIANJIN', 45: 'TAIYUAN', 91: 'XIAMEN', 81: 'Wuhan', 82: 'Jinzhou'}, 10: ('Wuhan', {86: 'BEIJING', 78: 'TIANJIN', 45: 'TAIYUAN', 91: 'XIAMEN', 81: 'Wuhan', 82: 'Jinzhou'}), 12: {86: 'BEIJING', 78: 'TIANJIN', 45: 'TAIYUAN', 91: 'XIAMEN', 81: 'Wuhan', 82: 'Jinzhou'}, 13: {86: 'BEIJING', 78: 'TIANJIN', 45: 'TAIYUAN', 91: 'XIAMEN', 81: 'Wuhan', 82: 'Jinzhou'}, 14: {'a': 1, 'c': 3, 'b': 2}, 16: OrderedDict([('a', 1), ('c', 3), ('b', 2)]), 17: OrderedDict([('a', 1), ('c', 3), ('b', 2)]), 18: OrderedDict(), 19: OrderedDict([('a', 1)]), 20: OrderedDict([('a', 1), ('c', 2), ('b', 3)]), 21: odict_keys(['a', 'c', 'b']), 22: ('b', 3), 23: ('b', 2), 24: ('b', 2), 25: ('b', 2), 26: ('key', <function <lambda> at 0x110482170>), 27: ('a', 1)}, '_dh': ['/Users/jiayi/PycharmProjects/fluentPython/数据结构'], 'In': ['', \"t1 = (1,2,3,(2,6))\\ndictionary = {1:'2','aa':'b',bytes(b'aaa'):'c',t1:'4'}\\ndictionary\", \"# 🙈创建字典的不同方式\\na = dict(a=1,b=2)\\nb = {'a':1,'b':2}\\nc = dict(zip(['a','b'],[1,2]))\\nd = dict([('a',1),('b',2)])\\ne = dict({'a':1,'b':2})\\na == b == c == d == e\", \"DIAL_CODES = [\\n    (86,'Beijing'),\\n    (78,'Tianjin'),\\n    (45,'Taiyuan'),\\n    (91,'Xiamen')\\n]\\ncity_dict = {city:code for code,city in DIAL_CODES }\\ncity_dict\", 'city_dict = {code:city.upper() for code,city in DIAL_CODES }\\ncity_dict', '#### setdefault方法\\nsetdefault方法，若字典中包含键k，则把它对应的值设置为default，然后返回这个值；若无，则让d[k] = default，然后返回default', \"city_dict.get(81,'Wuhan')\", 'city_dict', \"city_dict.setdefault(81,'Wuhan')\", \"city_dict.setdefault(81,'Wuhan')\\ncity_dict\", \"city_dict.get(81,'Wuhan'),city_dict # 如果没有键k，返回default\", \"# 对字典赋值\\ncity_dict[81] = 'Wuhan' \", \"# 对字典赋值\\ncity_dict[81] = 'Wuhan' \\ncity_dict\", \"city_dict.setdefault(82,'Jinzhou') # 只需要一次查询即可\\ncity_dict\", \"oDict = {'a':1,'c':3,'b':2}\\noDict\", \"oDict = collections.OrderedDict({'a':1,'c':3,'b':2})\\noDict\", \"import collections\\noDict = collections.OrderedDict({'a':1,'c':3,'b':2})\\noDict\", \"import collections\\noDict = collections.OrderedDict({'a':1,'c':3,'b':2})\\noDict\", 'import collections\\noDict = collections.OrderedDict()\\noDict', \"import collections\\noDict = collections.OrderedDict()\\noDict['a'] = 1\\noDict\", \"import collections\\noDict = collections.OrderedDict()\\noDict['a'] = 1\\noDict['c'] = 2\\noDict['b'] = 3\\noDict\", \"import collections\\noDict = collections.OrderedDict()\\noDict['a'] = 1\\noDict['c'] = 2\\noDict['b'] = 3\\noDict.keys()\", \"import collections\\noDict = collections.OrderedDict()\\noDict['a'] = 1\\noDict['c'] = 2\\noDict['b'] = 3\\noDict.popitem()\", \"import collections\\noDict = collections.OrderedDict()\\noDict['a'] = 1\\noDict['c'] = 3\\noDict['b'] = 2\\noDict.popitem()\", \"import collections\\noDict = collections.OrderedDict(key=lambda x:x[0])\\noDict['a'] = 1\\noDict['c'] = 3\\noDict['b'] = 2\\noDict.popitem()\", \"import collections\\noDict = collections.OrderedDict(key=lambda x:x[0])\\noDict['a'] = 1\\noDict['c'] = 3\\noDict['b'] = 2\\noDict.popitem()\", \"import collections\\noDict = collections.OrderedDict(key=lambda x:x[0])\\noDict['a'] = 1\\noDict['c'] = 3\\noDict['b'] = 2\\noDict.popitem() # 删除并返回最后一个元素\\noDict.popitem(last=False) # 删除并返回第一个元素\", \"import collections\\noDict = collections.OrderedDict()\\noDict['a'] = 1\\noDict['c'] = 3\\noDict['b'] = 2\\noDict.popitem() # 删除并返回最后一个元素\\noDict.popitem(last=False) # 删除并返回第一个元素\", '#### ChainMap\\n这个类型可以容纳数个不同的映射对象，然后在进行键查找操作的时候，这些对象会被当作一个整体被逐个查找，直到键被找到为止', 'import builtins\\npylookup = collections.ChainMap(locals(),globals(),var(builtins))', 'import builtins\\npylookup = collections.ChainMap(locals(),globals(),vars(builtins))', 'import builtins\\npylookup = collections.ChainMap(locals(),globals(),vars(builtins))\\npylookup'], 'Out': {1: {1: '2', 'aa': 'b', b'aaa': 'c', (1, 2, 3, (2, 6)): '4'}, 2: True, 3: {'Beijing': 86, 'Tianjin': 78, 'Taiyuan': 45, 'Xiamen': 91}, 4: {86: 'BEIJING', 78: 'TIANJIN', 45: 'TAIYUAN', 91: 'XIAMEN', 81: 'Wuhan', 82: 'Jinzhou'}, 6: 'Wuhan', 7: {86: 'BEIJING', 78: 'TIANJIN', 45: 'TAIYUAN', 91: 'XIAMEN', 81: 'Wuhan', 82: 'Jinzhou'}, 8: 'Wuhan', 9: {86: 'BEIJING', 78: 'TIANJIN', 45: 'TAIYUAN', 91: 'XIAMEN', 81: 'Wuhan', 82: 'Jinzhou'}, 10: ('Wuhan', {86: 'BEIJING', 78: 'TIANJIN', 45: 'TAIYUAN', 91: 'XIAMEN', 81: 'Wuhan', 82: 'Jinzhou'}), 12: {86: 'BEIJING', 78: 'TIANJIN', 45: 'TAIYUAN', 91: 'XIAMEN', 81: 'Wuhan', 82: 'Jinzhou'}, 13: {86: 'BEIJING', 78: 'TIANJIN', 45: 'TAIYUAN', 91: 'XIAMEN', 81: 'Wuhan', 82: 'Jinzhou'}, 14: {'a': 1, 'c': 3, 'b': 2}, 16: OrderedDict([('a', 1), ('c', 3), ('b', 2)]), 17: OrderedDict([('a', 1), ('c', 3), ('b', 2)]), 18: OrderedDict(), 19: OrderedDict([('a', 1)]), 20: OrderedDict([('a', 1), ('c', 2), ('b', 3)]), 21: odict_keys(['a', 'c', 'b']), 22: ('b', 3), 23: ('b', 2), 24: ('b', 2), 25: ('b', 2), 26: ('key', <function <lambda> at 0x110482170>), 27: ('a', 1)}, 'get_ipython': <bound method InteractiveShell.get_ipython of <ipykernel.zmqshell.ZMQInteractiveShell object at 0x10d382490>>, 'exit': <IPython.core.autocall.ZMQExitAutocall object at 0x10d3a0910>, 'quit': <IPython.core.autocall.ZMQExitAutocall object at 0x10d3a0910>, '_': ('a', 1), '__': ('key', <function <lambda> at 0x110482170>), '___': ('b', 2), '_i': 'import builtins\\npylookup = collections.ChainMap(locals(),globals(),vars(builtins))', '_ii': 'import builtins\\npylookup = collections.ChainMap(locals(),globals(),var(builtins))', '_iii': '#### ChainMap\\n这个类型可以容纳数个不同的映射对象，然后在进行键查找操作的时候，这些对象会被当作一个整体被逐个查找，直到键被找到为止', '_i1': \"t1 = (1,2,3,(2,6))\\ndictionary = {1:'2','aa':'b',bytes(b'aaa'):'c',t1:'4'}\\ndictionary\", 't1': (1, 2, 3, (2, 6)), 'dictionary': {1: '2', 'aa': 'b', b'aaa': 'c', (1, 2, 3, (2, 6)): '4'}, '_1': {1: '2', 'aa': 'b', b'aaa': 'c', (1, 2, 3, (2, 6)): '4'}, '_i2': \"# 🙈创建字典的不同方式\\na = dict(a=1,b=2)\\nb = {'a':1,'b':2}\\nc = dict(zip(['a','b'],[1,2]))\\nd = dict([('a',1),('b',2)])\\ne = dict({'a':1,'b':2})\\na == b == c == d == e\", 'a': {'a': 1, 'b': 2}, 'b': {'a': 1, 'b': 2}, 'c': {'a': 1, 'b': 2}, 'd': {'a': 1, 'b': 2}, 'e': {'a': 1, 'b': 2}, '_2': True, '_i3': \"DIAL_CODES = [\\n    (86,'Beijing'),\\n    (78,'Tianjin'),\\n    (45,'Taiyuan'),\\n    (91,'Xiamen')\\n]\\ncity_dict = {city:code for code,city in DIAL_CODES }\\ncity_dict\", 'DIAL_CODES': [(86, 'Beijing'), (78, 'Tianjin'), (45, 'Taiyuan'), (91, 'Xiamen')], 'city_dict': {86: 'BEIJING', 78: 'TIANJIN', 45: 'TAIYUAN', 91: 'XIAMEN', 81: 'Wuhan', 82: 'Jinzhou'}, '_3': {'Beijing': 86, 'Tianjin': 78, 'Taiyuan': 45, 'Xiamen': 91}, '_i4': 'city_dict = {code:city.upper() for code,city in DIAL_CODES }\\ncity_dict', '_4': {86: 'BEIJING', 78: 'TIANJIN', 45: 'TAIYUAN', 91: 'XIAMEN', 81: 'Wuhan', 82: 'Jinzhou'}, '_i5': '#### setdefault方法\\nsetdefault方法，若字典中包含键k，则把它对应的值设置为default，然后返回这个值；若无，则让d[k] = default，然后返回default', '_i6': \"city_dict.get(81,'Wuhan')\", '_6': 'Wuhan', '_i7': 'city_dict', '_7': {86: 'BEIJING', 78: 'TIANJIN', 45: 'TAIYUAN', 91: 'XIAMEN', 81: 'Wuhan', 82: 'Jinzhou'}, '_i8': \"city_dict.setdefault(81,'Wuhan')\", '_8': 'Wuhan', '_i9': \"city_dict.setdefault(81,'Wuhan')\\ncity_dict\", '_9': {86: 'BEIJING', 78: 'TIANJIN', 45: 'TAIYUAN', 91: 'XIAMEN', 81: 'Wuhan', 82: 'Jinzhou'}, '_i10': \"city_dict.get(81,'Wuhan'),city_dict # 如果没有键k，返回default\", '_10': ('Wuhan', {86: 'BEIJING', 78: 'TIANJIN', 45: 'TAIYUAN', 91: 'XIAMEN', 81: 'Wuhan', 82: 'Jinzhou'}), '_i11': \"# 对字典赋值\\ncity_dict[81] = 'Wuhan' \", '_i12': \"# 对字典赋值\\ncity_dict[81] = 'Wuhan' \\ncity_dict\", '_12': {86: 'BEIJING', 78: 'TIANJIN', 45: 'TAIYUAN', 91: 'XIAMEN', 81: 'Wuhan', 82: 'Jinzhou'}, '_i13': \"city_dict.setdefault(82,'Jinzhou') # 只需要一次查询即可\\ncity_dict\", '_13': {86: 'BEIJING', 78: 'TIANJIN', 45: 'TAIYUAN', 91: 'XIAMEN', 81: 'Wuhan', 82: 'Jinzhou'}, '_i14': \"oDict = {'a':1,'c':3,'b':2}\\noDict\", 'oDict': OrderedDict([('c', 3)]), '_14': {'a': 1, 'c': 3, 'b': 2}, '_i15': \"oDict = collections.OrderedDict({'a':1,'c':3,'b':2})\\noDict\", '_i16': \"import collections\\noDict = collections.OrderedDict({'a':1,'c':3,'b':2})\\noDict\", 'collections': <module 'collections' from '/Library/Frameworks/Python.framework/Versions/3.7/lib/python3.7/collections/__init__.py'>, '_16': OrderedDict([('a', 1), ('c', 3), ('b', 2)]), '_i17': \"import collections\\noDict = collections.OrderedDict({'a':1,'c':3,'b':2})\\noDict\", '_17': OrderedDict([('a', 1), ('c', 3), ('b', 2)]), '_i18': 'import collections\\noDict = collections.OrderedDict()\\noDict', '_18': OrderedDict(), '_i19': \"import collections\\noDict = collections.OrderedDict()\\noDict['a'] = 1\\noDict\", '_19': OrderedDict([('a', 1)]), '_i20': \"import collections\\noDict = collections.OrderedDict()\\noDict['a'] = 1\\noDict['c'] = 2\\noDict['b'] = 3\\noDict\", '_20': OrderedDict([('a', 1), ('c', 2), ('b', 3)]), '_i21': \"import collections\\noDict = collections.OrderedDict()\\noDict['a'] = 1\\noDict['c'] = 2\\noDict['b'] = 3\\noDict.keys()\", '_21': odict_keys(['a', 'c', 'b']), '_i22': \"import collections\\noDict = collections.OrderedDict()\\noDict['a'] = 1\\noDict['c'] = 2\\noDict['b'] = 3\\noDict.popitem()\", '_22': ('b', 3), '_i23': \"import collections\\noDict = collections.OrderedDict()\\noDict['a'] = 1\\noDict['c'] = 3\\noDict['b'] = 2\\noDict.popitem()\", '_23': ('b', 2), '_i24': \"import collections\\noDict = collections.OrderedDict(key=lambda x:x[0])\\noDict['a'] = 1\\noDict['c'] = 3\\noDict['b'] = 2\\noDict.popitem()\", '_24': ('b', 2), '_i25': \"import collections\\noDict = collections.OrderedDict(key=lambda x:x[0])\\noDict['a'] = 1\\noDict['c'] = 3\\noDict['b'] = 2\\noDict.popitem()\", '_25': ('b', 2), '_i26': \"import collections\\noDict = collections.OrderedDict(key=lambda x:x[0])\\noDict['a'] = 1\\noDict['c'] = 3\\noDict['b'] = 2\\noDict.popitem() # 删除并返回最后一个元素\\noDict.popitem(last=False) # 删除并返回第一个元素\", '_26': ('key', <function <lambda> at 0x110482170>), '_i27': \"import collections\\noDict = collections.OrderedDict()\\noDict['a'] = 1\\noDict['c'] = 3\\noDict['b'] = 2\\noDict.popitem() # 删除并返回最后一个元素\\noDict.popitem(last=False) # 删除并返回第一个元素\", '_27': ('a', 1), '_i28': '#### ChainMap\\n这个类型可以容纳数个不同的映射对象，然后在进行键查找操作的时候，这些对象会被当作一个整体被逐个查找，直到键被找到为止', '_i29': 'import builtins\\npylookup = collections.ChainMap(locals(),globals(),var(builtins))', 'builtins': <module 'builtins' (built-in)>, '_i30': 'import builtins\\npylookup = collections.ChainMap(locals(),globals(),vars(builtins))', 'pylookup': ..., '_i31': 'import builtins\\npylookup = collections.ChainMap(locals(),globals(),vars(builtins))\\npylookup'}, {'__name__': '__main__', '__doc__': 'Automatically created module for IPython interactive environment', '__package__': None, '__loader__': None, '__spec__': None, '__builtin__': <module 'builtins' (built-in)>, '__builtins__': <module 'builtins' (built-in)>, '_ih': ['', \"t1 = (1,2,3,(2,6))\\ndictionary = {1:'2','aa':'b',bytes(b'aaa'):'c',t1:'4'}\\ndictionary\", \"# 🙈创建字典的不同方式\\na = dict(a=1,b=2)\\nb = {'a':1,'b':2}\\nc = dict(zip(['a','b'],[1,2]))\\nd = dict([('a',1),('b',2)])\\ne = dict({'a':1,'b':2})\\na == b == c == d == e\", \"DIAL_CODES = [\\n    (86,'Beijing'),\\n    (78,'Tianjin'),\\n    (45,'Taiyuan'),\\n    (91,'Xiamen')\\n]\\ncity_dict = {city:code for code,city in DIAL_CODES }\\ncity_dict\", 'city_dict = {code:city.upper() for code,city in DIAL_CODES }\\ncity_dict', '#### setdefault方法\\nsetdefault方法，若字典中包含键k，则把它对应的值设置为default，然后返回这个值；若无，则让d[k] = default，然后返回default', \"city_dict.get(81,'Wuhan')\", 'city_dict', \"city_dict.setdefault(81,'Wuhan')\", \"city_dict.setdefault(81,'Wuhan')\\ncity_dict\", \"city_dict.get(81,'Wuhan'),city_dict # 如果没有键k，返回default\", \"# 对字典赋值\\ncity_dict[81] = 'Wuhan' \", \"# 对字典赋值\\ncity_dict[81] = 'Wuhan' \\ncity_dict\", \"city_dict.setdefault(82,'Jinzhou') # 只需要一次查询即可\\ncity_dict\", \"oDict = {'a':1,'c':3,'b':2}\\noDict\", \"oDict = collections.OrderedDict({'a':1,'c':3,'b':2})\\noDict\", \"import collections\\noDict = collections.OrderedDict({'a':1,'c':3,'b':2})\\noDict\", \"import collections\\noDict = collections.OrderedDict({'a':1,'c':3,'b':2})\\noDict\", 'import collections\\noDict = collections.OrderedDict()\\noDict', \"import collections\\noDict = collections.OrderedDict()\\noDict['a'] = 1\\noDict\", \"import collections\\noDict = collections.OrderedDict()\\noDict['a'] = 1\\noDict['c'] = 2\\noDict['b'] = 3\\noDict\", \"import collections\\noDict = collections.OrderedDict()\\noDict['a'] = 1\\noDict['c'] = 2\\noDict['b'] = 3\\noDict.keys()\", \"import collections\\noDict = collections.OrderedDict()\\noDict['a'] = 1\\noDict['c'] = 2\\noDict['b'] = 3\\noDict.popitem()\", \"import collections\\noDict = collections.OrderedDict()\\noDict['a'] = 1\\noDict['c'] = 3\\noDict['b'] = 2\\noDict.popitem()\", \"import collections\\noDict = collections.OrderedDict(key=lambda x:x[0])\\noDict['a'] = 1\\noDict['c'] = 3\\noDict['b'] = 2\\noDict.popitem()\", \"import collections\\noDict = collections.OrderedDict(key=lambda x:x[0])\\noDict['a'] = 1\\noDict['c'] = 3\\noDict['b'] = 2\\noDict.popitem()\", \"import collections\\noDict = collections.OrderedDict(key=lambda x:x[0])\\noDict['a'] = 1\\noDict['c'] = 3\\noDict['b'] = 2\\noDict.popitem() # 删除并返回最后一个元素\\noDict.popitem(last=False) # 删除并返回第一个元素\", \"import collections\\noDict = collections.OrderedDict()\\noDict['a'] = 1\\noDict['c'] = 3\\noDict['b'] = 2\\noDict.popitem() # 删除并返回最后一个元素\\noDict.popitem(last=False) # 删除并返回第一个元素\", '#### ChainMap\\n这个类型可以容纳数个不同的映射对象，然后在进行键查找操作的时候，这些对象会被当作一个整体被逐个查找，直到键被找到为止', 'import builtins\\npylookup = collections.ChainMap(locals(),globals(),var(builtins))', 'import builtins\\npylookup = collections.ChainMap(locals(),globals(),vars(builtins))', 'import builtins\\npylookup = collections.ChainMap(locals(),globals(),vars(builtins))\\npylookup'], '_oh': {1: {1: '2', 'aa': 'b', b'aaa': 'c', (1, 2, 3, (2, 6)): '4'}, 2: True, 3: {'Beijing': 86, 'Tianjin': 78, 'Taiyuan': 45, 'Xiamen': 91}, 4: {86: 'BEIJING', 78: 'TIANJIN', 45: 'TAIYUAN', 91: 'XIAMEN', 81: 'Wuhan', 82: 'Jinzhou'}, 6: 'Wuhan', 7: {86: 'BEIJING', 78: 'TIANJIN', 45: 'TAIYUAN', 91: 'XIAMEN', 81: 'Wuhan', 82: 'Jinzhou'}, 8: 'Wuhan', 9: {86: 'BEIJING', 78: 'TIANJIN', 45: 'TAIYUAN', 91: 'XIAMEN', 81: 'Wuhan', 82: 'Jinzhou'}, 10: ('Wuhan', {86: 'BEIJING', 78: 'TIANJIN', 45: 'TAIYUAN', 91: 'XIAMEN', 81: 'Wuhan', 82: 'Jinzhou'}), 12: {86: 'BEIJING', 78: 'TIANJIN', 45: 'TAIYUAN', 91: 'XIAMEN', 81: 'Wuhan', 82: 'Jinzhou'}, 13: {86: 'BEIJING', 78: 'TIANJIN', 45: 'TAIYUAN', 91: 'XIAMEN', 81: 'Wuhan', 82: 'Jinzhou'}, 14: {'a': 1, 'c': 3, 'b': 2}, 16: OrderedDict([('a', 1), ('c', 3), ('b', 2)]), 17: OrderedDict([('a', 1), ('c', 3), ('b', 2)]), 18: OrderedDict(), 19: OrderedDict([('a', 1)]), 20: OrderedDict([('a', 1), ('c', 2), ('b', 3)]), 21: odict_keys(['a', 'c', 'b']), 22: ('b', 3), 23: ('b', 2), 24: ('b', 2), 25: ('b', 2), 26: ('key', <function <lambda> at 0x110482170>), 27: ('a', 1)}, '_dh': ['/Users/jiayi/PycharmProjects/fluentPython/数据结构'], 'In': ['', \"t1 = (1,2,3,(2,6))\\ndictionary = {1:'2','aa':'b',bytes(b'aaa'):'c',t1:'4'}\\ndictionary\", \"# 🙈创建字典的不同方式\\na = dict(a=1,b=2)\\nb = {'a':1,'b':2}\\nc = dict(zip(['a','b'],[1,2]))\\nd = dict([('a',1),('b',2)])\\ne = dict({'a':1,'b':2})\\na == b == c == d == e\", \"DIAL_CODES = [\\n    (86,'Beijing'),\\n    (78,'Tianjin'),\\n    (45,'Taiyuan'),\\n    (91,'Xiamen')\\n]\\ncity_dict = {city:code for code,city in DIAL_CODES }\\ncity_dict\", 'city_dict = {code:city.upper() for code,city in DIAL_CODES }\\ncity_dict', '#### setdefault方法\\nsetdefault方法，若字典中包含键k，则把它对应的值设置为default，然后返回这个值；若无，则让d[k] = default，然后返回default', \"city_dict.get(81,'Wuhan')\", 'city_dict', \"city_dict.setdefault(81,'Wuhan')\", \"city_dict.setdefault(81,'Wuhan')\\ncity_dict\", \"city_dict.get(81,'Wuhan'),city_dict # 如果没有键k，返回default\", \"# 对字典赋值\\ncity_dict[81] = 'Wuhan' \", \"# 对字典赋值\\ncity_dict[81] = 'Wuhan' \\ncity_dict\", \"city_dict.setdefault(82,'Jinzhou') # 只需要一次查询即可\\ncity_dict\", \"oDict = {'a':1,'c':3,'b':2}\\noDict\", \"oDict = collections.OrderedDict({'a':1,'c':3,'b':2})\\noDict\", \"import collections\\noDict = collections.OrderedDict({'a':1,'c':3,'b':2})\\noDict\", \"import collections\\noDict = collections.OrderedDict({'a':1,'c':3,'b':2})\\noDict\", 'import collections\\noDict = collections.OrderedDict()\\noDict', \"import collections\\noDict = collections.OrderedDict()\\noDict['a'] = 1\\noDict\", \"import collections\\noDict = collections.OrderedDict()\\noDict['a'] = 1\\noDict['c'] = 2\\noDict['b'] = 3\\noDict\", \"import collections\\noDict = collections.OrderedDict()\\noDict['a'] = 1\\noDict['c'] = 2\\noDict['b'] = 3\\noDict.keys()\", \"import collections\\noDict = collections.OrderedDict()\\noDict['a'] = 1\\noDict['c'] = 2\\noDict['b'] = 3\\noDict.popitem()\", \"import collections\\noDict = collections.OrderedDict()\\noDict['a'] = 1\\noDict['c'] = 3\\noDict['b'] = 2\\noDict.popitem()\", \"import collections\\noDict = collections.OrderedDict(key=lambda x:x[0])\\noDict['a'] = 1\\noDict['c'] = 3\\noDict['b'] = 2\\noDict.popitem()\", \"import collections\\noDict = collections.OrderedDict(key=lambda x:x[0])\\noDict['a'] = 1\\noDict['c'] = 3\\noDict['b'] = 2\\noDict.popitem()\", \"import collections\\noDict = collections.OrderedDict(key=lambda x:x[0])\\noDict['a'] = 1\\noDict['c'] = 3\\noDict['b'] = 2\\noDict.popitem() # 删除并返回最后一个元素\\noDict.popitem(last=False) # 删除并返回第一个元素\", \"import collections\\noDict = collections.OrderedDict()\\noDict['a'] = 1\\noDict['c'] = 3\\noDict['b'] = 2\\noDict.popitem() # 删除并返回最后一个元素\\noDict.popitem(last=False) # 删除并返回第一个元素\", '#### ChainMap\\n这个类型可以容纳数个不同的映射对象，然后在进行键查找操作的时候，这些对象会被当作一个整体被逐个查找，直到键被找到为止', 'import builtins\\npylookup = collections.ChainMap(locals(),globals(),var(builtins))', 'import builtins\\npylookup = collections.ChainMap(locals(),globals(),vars(builtins))', 'import builtins\\npylookup = collections.ChainMap(locals(),globals(),vars(builtins))\\npylookup'], 'Out': {1: {1: '2', 'aa': 'b', b'aaa': 'c', (1, 2, 3, (2, 6)): '4'}, 2: True, 3: {'Beijing': 86, 'Tianjin': 78, 'Taiyuan': 45, 'Xiamen': 91}, 4: {86: 'BEIJING', 78: 'TIANJIN', 45: 'TAIYUAN', 91: 'XIAMEN', 81: 'Wuhan', 82: 'Jinzhou'}, 6: 'Wuhan', 7: {86: 'BEIJING', 78: 'TIANJIN', 45: 'TAIYUAN', 91: 'XIAMEN', 81: 'Wuhan', 82: 'Jinzhou'}, 8: 'Wuhan', 9: {86: 'BEIJING', 78: 'TIANJIN', 45: 'TAIYUAN', 91: 'XIAMEN', 81: 'Wuhan', 82: 'Jinzhou'}, 10: ('Wuhan', {86: 'BEIJING', 78: 'TIANJIN', 45: 'TAIYUAN', 91: 'XIAMEN', 81: 'Wuhan', 82: 'Jinzhou'}), 12: {86: 'BEIJING', 78: 'TIANJIN', 45: 'TAIYUAN', 91: 'XIAMEN', 81: 'Wuhan', 82: 'Jinzhou'}, 13: {86: 'BEIJING', 78: 'TIANJIN', 45: 'TAIYUAN', 91: 'XIAMEN', 81: 'Wuhan', 82: 'Jinzhou'}, 14: {'a': 1, 'c': 3, 'b': 2}, 16: OrderedDict([('a', 1), ('c', 3), ('b', 2)]), 17: OrderedDict([('a', 1), ('c', 3), ('b', 2)]), 18: OrderedDict(), 19: OrderedDict([('a', 1)]), 20: OrderedDict([('a', 1), ('c', 2), ('b', 3)]), 21: odict_keys(['a', 'c', 'b']), 22: ('b', 3), 23: ('b', 2), 24: ('b', 2), 25: ('b', 2), 26: ('key', <function <lambda> at 0x110482170>), 27: ('a', 1)}, 'get_ipython': <bound method InteractiveShell.get_ipython of <ipykernel.zmqshell.ZMQInteractiveShell object at 0x10d382490>>, 'exit': <IPython.core.autocall.ZMQExitAutocall object at 0x10d3a0910>, 'quit': <IPython.core.autocall.ZMQExitAutocall object at 0x10d3a0910>, '_': ('a', 1), '__': ('key', <function <lambda> at 0x110482170>), '___': ('b', 2), '_i': 'import builtins\\npylookup = collections.ChainMap(locals(),globals(),vars(builtins))', '_ii': 'import builtins\\npylookup = collections.ChainMap(locals(),globals(),var(builtins))', '_iii': '#### ChainMap\\n这个类型可以容纳数个不同的映射对象，然后在进行键查找操作的时候，这些对象会被当作一个整体被逐个查找，直到键被找到为止', '_i1': \"t1 = (1,2,3,(2,6))\\ndictionary = {1:'2','aa':'b',bytes(b'aaa'):'c',t1:'4'}\\ndictionary\", 't1': (1, 2, 3, (2, 6)), 'dictionary': {1: '2', 'aa': 'b', b'aaa': 'c', (1, 2, 3, (2, 6)): '4'}, '_1': {1: '2', 'aa': 'b', b'aaa': 'c', (1, 2, 3, (2, 6)): '4'}, '_i2': \"# 🙈创建字典的不同方式\\na = dict(a=1,b=2)\\nb = {'a':1,'b':2}\\nc = dict(zip(['a','b'],[1,2]))\\nd = dict([('a',1),('b',2)])\\ne = dict({'a':1,'b':2})\\na == b == c == d == e\", 'a': {'a': 1, 'b': 2}, 'b': {'a': 1, 'b': 2}, 'c': {'a': 1, 'b': 2}, 'd': {'a': 1, 'b': 2}, 'e': {'a': 1, 'b': 2}, '_2': True, '_i3': \"DIAL_CODES = [\\n    (86,'Beijing'),\\n    (78,'Tianjin'),\\n    (45,'Taiyuan'),\\n    (91,'Xiamen')\\n]\\ncity_dict = {city:code for code,city in DIAL_CODES }\\ncity_dict\", 'DIAL_CODES': [(86, 'Beijing'), (78, 'Tianjin'), (45, 'Taiyuan'), (91, 'Xiamen')], 'city_dict': {86: 'BEIJING', 78: 'TIANJIN', 45: 'TAIYUAN', 91: 'XIAMEN', 81: 'Wuhan', 82: 'Jinzhou'}, '_3': {'Beijing': 86, 'Tianjin': 78, 'Taiyuan': 45, 'Xiamen': 91}, '_i4': 'city_dict = {code:city.upper() for code,city in DIAL_CODES }\\ncity_dict', '_4': {86: 'BEIJING', 78: 'TIANJIN', 45: 'TAIYUAN', 91: 'XIAMEN', 81: 'Wuhan', 82: 'Jinzhou'}, '_i5': '#### setdefault方法\\nsetdefault方法，若字典中包含键k，则把它对应的值设置为default，然后返回这个值；若无，则让d[k] = default，然后返回default', '_i6': \"city_dict.get(81,'Wuhan')\", '_6': 'Wuhan', '_i7': 'city_dict', '_7': {86: 'BEIJING', 78: 'TIANJIN', 45: 'TAIYUAN', 91: 'XIAMEN', 81: 'Wuhan', 82: 'Jinzhou'}, '_i8': \"city_dict.setdefault(81,'Wuhan')\", '_8': 'Wuhan', '_i9': \"city_dict.setdefault(81,'Wuhan')\\ncity_dict\", '_9': {86: 'BEIJING', 78: 'TIANJIN', 45: 'TAIYUAN', 91: 'XIAMEN', 81: 'Wuhan', 82: 'Jinzhou'}, '_i10': \"city_dict.get(81,'Wuhan'),city_dict # 如果没有键k，返回default\", '_10': ('Wuhan', {86: 'BEIJING', 78: 'TIANJIN', 45: 'TAIYUAN', 91: 'XIAMEN', 81: 'Wuhan', 82: 'Jinzhou'}), '_i11': \"# 对字典赋值\\ncity_dict[81] = 'Wuhan' \", '_i12': \"# 对字典赋值\\ncity_dict[81] = 'Wuhan' \\ncity_dict\", '_12': {86: 'BEIJING', 78: 'TIANJIN', 45: 'TAIYUAN', 91: 'XIAMEN', 81: 'Wuhan', 82: 'Jinzhou'}, '_i13': \"city_dict.setdefault(82,'Jinzhou') # 只需要一次查询即可\\ncity_dict\", '_13': {86: 'BEIJING', 78: 'TIANJIN', 45: 'TAIYUAN', 91: 'XIAMEN', 81: 'Wuhan', 82: 'Jinzhou'}, '_i14': \"oDict = {'a':1,'c':3,'b':2}\\noDict\", 'oDict': OrderedDict([('c', 3)]), '_14': {'a': 1, 'c': 3, 'b': 2}, '_i15': \"oDict = collections.OrderedDict({'a':1,'c':3,'b':2})\\noDict\", '_i16': \"import collections\\noDict = collections.OrderedDict({'a':1,'c':3,'b':2})\\noDict\", 'collections': <module 'collections' from '/Library/Frameworks/Python.framework/Versions/3.7/lib/python3.7/collections/__init__.py'>, '_16': OrderedDict([('a', 1), ('c', 3), ('b', 2)]), '_i17': \"import collections\\noDict = collections.OrderedDict({'a':1,'c':3,'b':2})\\noDict\", '_17': OrderedDict([('a', 1), ('c', 3), ('b', 2)]), '_i18': 'import collections\\noDict = collections.OrderedDict()\\noDict', '_18': OrderedDict(), '_i19': \"import collections\\noDict = collections.OrderedDict()\\noDict['a'] = 1\\noDict\", '_19': OrderedDict([('a', 1)]), '_i20': \"import collections\\noDict = collections.OrderedDict()\\noDict['a'] = 1\\noDict['c'] = 2\\noDict['b'] = 3\\noDict\", '_20': OrderedDict([('a', 1), ('c', 2), ('b', 3)]), '_i21': \"import collections\\noDict = collections.OrderedDict()\\noDict['a'] = 1\\noDict['c'] = 2\\noDict['b'] = 3\\noDict.keys()\", '_21': odict_keys(['a', 'c', 'b']), '_i22': \"import collections\\noDict = collections.OrderedDict()\\noDict['a'] = 1\\noDict['c'] = 2\\noDict['b'] = 3\\noDict.popitem()\", '_22': ('b', 3), '_i23': \"import collections\\noDict = collections.OrderedDict()\\noDict['a'] = 1\\noDict['c'] = 3\\noDict['b'] = 2\\noDict.popitem()\", '_23': ('b', 2), '_i24': \"import collections\\noDict = collections.OrderedDict(key=lambda x:x[0])\\noDict['a'] = 1\\noDict['c'] = 3\\noDict['b'] = 2\\noDict.popitem()\", '_24': ('b', 2), '_i25': \"import collections\\noDict = collections.OrderedDict(key=lambda x:x[0])\\noDict['a'] = 1\\noDict['c'] = 3\\noDict['b'] = 2\\noDict.popitem()\", '_25': ('b', 2), '_i26': \"import collections\\noDict = collections.OrderedDict(key=lambda x:x[0])\\noDict['a'] = 1\\noDict['c'] = 3\\noDict['b'] = 2\\noDict.popitem() # 删除并返回最后一个元素\\noDict.popitem(last=False) # 删除并返回第一个元素\", '_26': ('key', <function <lambda> at 0x110482170>), '_i27': \"import collections\\noDict = collections.OrderedDict()\\noDict['a'] = 1\\noDict['c'] = 3\\noDict['b'] = 2\\noDict.popitem() # 删除并返回最后一个元素\\noDict.popitem(last=False) # 删除并返回第一个元素\", '_27': ('a', 1), '_i28': '#### ChainMap\\n这个类型可以容纳数个不同的映射对象，然后在进行键查找操作的时候，这些对象会被当作一个整体被逐个查找，直到键被找到为止', '_i29': 'import builtins\\npylookup = collections.ChainMap(locals(),globals(),var(builtins))', 'builtins': <module 'builtins' (built-in)>, '_i30': 'import builtins\\npylookup = collections.ChainMap(locals(),globals(),vars(builtins))', 'pylookup': ..., '_i31': 'import builtins\\npylookup = collections.ChainMap(locals(),globals(),vars(builtins))\\npylookup'}, {'__name__': 'builtins', '__doc__': \"Built-in functions, exceptions, and other objects.\\n\\nNoteworthy: None is the `nil' object; Ellipsis represents `...' in slices.\", '__package__': '', '__loader__': <class '_frozen_importlib.BuiltinImporter'>, '__spec__': ModuleSpec(name='builtins', loader=<class '_frozen_importlib.BuiltinImporter'>), '__build_class__': <built-in function __build_class__>, '__import__': <built-in function __import__>, 'abs': <built-in function abs>, 'all': <built-in function all>, 'any': <built-in function any>, 'ascii': <built-in function ascii>, 'bin': <built-in function bin>, 'breakpoint': <built-in function breakpoint>, 'callable': <built-in function callable>, 'chr': <built-in function chr>, 'compile': <built-in function compile>, 'delattr': <built-in function delattr>, 'dir': <built-in function dir>, 'divmod': <built-in function divmod>, 'eval': <built-in function eval>, 'exec': <built-in function exec>, 'format': <built-in function format>, 'getattr': <built-in function getattr>, 'globals': <built-in function globals>, 'hasattr': <built-in function hasattr>, 'hash': <built-in function hash>, 'hex': <built-in function hex>, 'id': <built-in function id>, 'input': <bound method Kernel.raw_input of <ipykernel.ipkernel.IPythonKernel object at 0x10d38c290>>, 'isinstance': <built-in function isinstance>, 'issubclass': <built-in function issubclass>, 'iter': <built-in function iter>, 'len': <built-in function len>, 'locals': <built-in function locals>, 'max': <built-in function max>, 'min': <built-in function min>, 'next': <built-in function next>, 'oct': <built-in function oct>, 'ord': <built-in function ord>, 'pow': <built-in function pow>, 'print': <built-in function print>, 'repr': <built-in function repr>, 'round': <built-in function round>, 'setattr': <built-in function setattr>, 'sorted': <built-in function sorted>, 'sum': <built-in function sum>, 'vars': <built-in function vars>, 'None': None, 'Ellipsis': Ellipsis, 'NotImplemented': NotImplemented, 'False': False, 'True': True, 'bool': <class 'bool'>, 'memoryview': <class 'memoryview'>, 'bytearray': <class 'bytearray'>, 'bytes': <class 'bytes'>, 'classmethod': <class 'classmethod'>, 'complex': <class 'complex'>, 'dict': <class 'dict'>, 'enumerate': <class 'enumerate'>, 'filter': <class 'filter'>, 'float': <class 'float'>, 'frozenset': <class 'frozenset'>, 'property': <class 'property'>, 'int': <class 'int'>, 'list': <class 'list'>, 'map': <class 'map'>, 'object': <class 'object'>, 'range': <class 'range'>, 'reversed': <class 'reversed'>, 'set': <class 'set'>, 'slice': <class 'slice'>, 'staticmethod': <class 'staticmethod'>, 'str': <class 'str'>, 'super': <class 'super'>, 'tuple': <class 'tuple'>, 'type': <class 'type'>, 'zip': <class 'zip'>, '__debug__': True, 'BaseException': <class 'BaseException'>, 'Exception': <class 'Exception'>, 'TypeError': <class 'TypeError'>, 'StopAsyncIteration': <class 'StopAsyncIteration'>, 'StopIteration': <class 'StopIteration'>, 'GeneratorExit': <class 'GeneratorExit'>, 'SystemExit': <class 'SystemExit'>, 'KeyboardInterrupt': <class 'KeyboardInterrupt'>, 'ImportError': <class 'ImportError'>, 'ModuleNotFoundError': <class 'ModuleNotFoundError'>, 'OSError': <class 'OSError'>, 'EnvironmentError': <class 'OSError'>, 'IOError': <class 'OSError'>, 'EOFError': <class 'EOFError'>, 'RuntimeError': <class 'RuntimeError'>, 'RecursionError': <class 'RecursionError'>, 'NotImplementedError': <class 'NotImplementedError'>, 'NameError': <class 'NameError'>, 'UnboundLocalError': <class 'UnboundLocalError'>, 'AttributeError': <class 'AttributeError'>, 'SyntaxError': <class 'SyntaxError'>, 'IndentationError': <class 'IndentationError'>, 'TabError': <class 'TabError'>, 'LookupError': <class 'LookupError'>, 'IndexError': <class 'IndexError'>, 'KeyError': <class 'KeyError'>, 'ValueError': <class 'ValueError'>, 'UnicodeError': <class 'UnicodeError'>, 'UnicodeEncodeError': <class 'UnicodeEncodeError'>, 'UnicodeDecodeError': <class 'UnicodeDecodeError'>, 'UnicodeTranslateError': <class 'UnicodeTranslateError'>, 'AssertionError': <class 'AssertionError'>, 'ArithmeticError': <class 'ArithmeticError'>, 'FloatingPointError': <class 'FloatingPointError'>, 'OverflowError': <class 'OverflowError'>, 'ZeroDivisionError': <class 'ZeroDivisionError'>, 'SystemError': <class 'SystemError'>, 'ReferenceError': <class 'ReferenceError'>, 'MemoryError': <class 'MemoryError'>, 'BufferError': <class 'BufferError'>, 'Warning': <class 'Warning'>, 'UserWarning': <class 'UserWarning'>, 'DeprecationWarning': <class 'DeprecationWarning'>, 'PendingDeprecationWarning': <class 'PendingDeprecationWarning'>, 'SyntaxWarning': <class 'SyntaxWarning'>, 'RuntimeWarning': <class 'RuntimeWarning'>, 'FutureWarning': <class 'FutureWarning'>, 'ImportWarning': <class 'ImportWarning'>, 'UnicodeWarning': <class 'UnicodeWarning'>, 'BytesWarning': <class 'BytesWarning'>, 'ResourceWarning': <class 'ResourceWarning'>, 'ConnectionError': <class 'ConnectionError'>, 'BlockingIOError': <class 'BlockingIOError'>, 'BrokenPipeError': <class 'BrokenPipeError'>, 'ChildProcessError': <class 'ChildProcessError'>, 'ConnectionAbortedError': <class 'ConnectionAbortedError'>, 'ConnectionRefusedError': <class 'ConnectionRefusedError'>, 'ConnectionResetError': <class 'ConnectionResetError'>, 'FileExistsError': <class 'FileExistsError'>, 'FileNotFoundError': <class 'FileNotFoundError'>, 'IsADirectoryError': <class 'IsADirectoryError'>, 'NotADirectoryError': <class 'NotADirectoryError'>, 'InterruptedError': <class 'InterruptedError'>, 'PermissionError': <class 'PermissionError'>, 'ProcessLookupError': <class 'ProcessLookupError'>, 'TimeoutError': <class 'TimeoutError'>, 'open': <built-in function open>, 'copyright': Copyright (c) 2001-2019 Python Software Foundation.\n",
       "All Rights Reserved.\n",
       "\n",
       "Copyright (c) 2000 BeOpen.com.\n",
       "All Rights Reserved.\n",
       "\n",
       "Copyright (c) 1995-2001 Corporation for National Research Initiatives.\n",
       "All Rights Reserved.\n",
       "\n",
       "Copyright (c) 1991-1995 Stichting Mathematisch Centrum, Amsterdam.\n",
       "All Rights Reserved., 'credits':     Thanks to CWI, CNRI, BeOpen.com, Zope Corporation and a cast of thousands\n",
       "    for supporting Python development.  See www.python.org for more information., 'license': Type license() to see the full license text, 'help': Type help() for interactive help, or help(object) for help about object., '__IPYTHON__': True, 'display': <function display at 0x10b4e50e0>, 'get_ipython': <bound method InteractiveShell.get_ipython of <ipykernel.zmqshell.ZMQInteractiveShell object at 0x10d382490>>})"
      ]
     },
     "execution_count": 31,
     "metadata": {},
     "output_type": "execute_result"
    }
   ],
   "source": [
    "import builtins\n",
    "pylookup = collections.ChainMap(locals(),globals(),vars(builtins))\n",
    "pylookup"
   ]
  },
  {
   "cell_type": "markdown",
   "metadata": {},
   "source": [
    "#### Counter\n",
    "这个映射类型会给键准备一个整数计数器，每次更新一个键，都会增加这个计数器"
   ]
  },
  {
   "cell_type": "code",
   "execution_count": 33,
   "metadata": {},
   "outputs": [
    {
     "data": {
      "text/plain": [
       "Counter({'a': 5, 'b': 2, 'r': 2, 'c': 1, 'd': 1})"
      ]
     },
     "execution_count": 33,
     "metadata": {},
     "output_type": "execute_result"
    }
   ],
   "source": [
    "count = collections.Counter('abracadabra') #对可迭代对象进行计数\n",
    "count"
   ]
  },
  {
   "cell_type": "code",
   "execution_count": 43,
   "metadata": {},
   "outputs": [
    {
     "data": {
      "text/plain": [
       "(Counter({'a': 3, 'b': 5}), Counter({'a': 1, 'b': 1}), [('b', 2), ('a', 1)])"
      ]
     },
     "execution_count": 43,
     "metadata": {},
     "output_type": "execute_result"
    }
   ],
   "source": [
    "count1 = collections.Counter({'a':1,'b':2})\n",
    "count2 = collections.Counter({'a':2,'b':3})\n",
    "count1 + count2,count2 - count1,count1.most_common()"
   ]
  },
  {
   "cell_type": "markdown",
   "metadata": {},
   "source": [
    "#### 合并字典"
   ]
  },
  {
   "cell_type": "code",
   "execution_count": 54,
   "metadata": {},
   "outputs": [
    {
     "data": {
      "text/plain": [
       "({1: '2', 3: 'b', 'c': 4}, 2)"
      ]
     },
     "execution_count": 54,
     "metadata": {},
     "output_type": "execute_result"
    }
   ],
   "source": [
    "# 使用ChainMap方法，缺点是遇到同键，会查找到最后一个字典，但修改删除时会选择第一个,优点是可以对字典值同步修改，也就是修改chainMap。\n",
    "# 原字典会同步修改，因为ChainMap的底层实现借助了列表\n",
    "chain = collections.ChainMap(dic1,dic2)\n",
    "chain['c'] = 2 \n",
    "dic2,chain['c']"
   ]
  },
  {
   "cell_type": "code",
   "execution_count": 58,
   "metadata": {},
   "outputs": [
    {
     "data": {
      "text/plain": [
       "({'a': 1, 'b': 2, 'c': 4, 1: '4', 3: 'b'}, {1: '2', 3: 'b', 'c': 4})"
      ]
     },
     "execution_count": 58,
     "metadata": {},
     "output_type": "execute_result"
    }
   ],
   "source": [
    "# 使用update方法\n",
    "dic1 = {'a':1,'b':2,'c':3}\n",
    "dic2 = {1:'2',3:'b','c':4}\n",
    "dic1.update(dic2) #同键值会选择update内的\n",
    "dic1[1] = '4' #不会修改原字典\n",
    "dic1,dic2"
   ]
  },
  {
   "cell_type": "code",
   "execution_count": 65,
   "metadata": {},
   "outputs": [
    {
     "data": {
      "text/plain": [
       "({'a': 1, 'b': 2, 'c': 4, 1: '4', 3: 'b'}, {1: '2', 3: 'b', 'c': 4})"
      ]
     },
     "execution_count": 65,
     "metadata": {},
     "output_type": "execute_result"
    }
   ],
   "source": [
    "#创建一个新dict\n",
    "dic1 = {'a':1,'b':2,'c':3}\n",
    "dic2 = {1:'2',3:'b','c':4}\n",
    "dic3 = {**dic1,**dic2} # 这里借助双星号，将字典解包\n",
    "dic3[1] = '4' #不会影响原字典\n",
    "dic3,dic2"
   ]
  },
  {
   "cell_type": "markdown",
   "metadata": {},
   "source": [
    "##### 额外内容\n",
    "💁python的函数定义中，使用`*args`、`**kargs`分别接收多余未命名参数和命名参数，并将其分别装包成元组和字典 <br>\n",
    "然后，在函数定义当中，`*`，`**`进行解包成函数参数形式a=b"
   ]
  },
  {
   "cell_type": "code",
   "execution_count": 77,
   "metadata": {},
   "outputs": [
    {
     "name": "stdout",
     "output_type": "stream",
     "text": [
      "('d', 'e')\n",
      "d e\n",
      "{'aa': 'w', 'b': 2}\n",
      "w 2 aa b\n"
     ]
    }
   ],
   "source": [
    "def bag(a,*args,**kargs):\n",
    "    print(args)\n",
    "    print(*args)\n",
    "    print(kargs)\n",
    "    print(*kargs.values(),*kargs.keys())\n",
    "bag('1','d','e',aa='w',b=2)"
   ]
  },
  {
   "cell_type": "markdown",
   "metadata": {},
   "source": [
    "#### UserDict\n",
    "当我们需要自定义映射类型时，UserDict相比于dict要来的方便，主要原因是，dict有时会在某些方法的实现上走一些捷径，导致我们不得不在\n",
    "它的子类当中重写这些方法 <br>\n",
    "UserDict并不是dict的子类，但是UserDict有一个data属性，是dict的实例。"
   ]
  },
  {
   "cell_type": "code",
   "execution_count": 88,
   "metadata": {},
   "outputs": [
    {
     "data": {
      "text/plain": [
       "3"
      ]
     },
     "execution_count": 88,
     "metadata": {},
     "output_type": "execute_result"
    }
   ],
   "source": [
    "class StrKeyDict(collections.UserDict):\n",
    "    def __missing__(self,key):\n",
    "        if(isinstance(key,str)):\n",
    "            raise KeyError(key)\n",
    "        return self[str(key)]\n",
    "    def __contains__(self,key):\n",
    "        return str(key) in self.data\n",
    "strDict = StrKeyDict()\n",
    "strDict[1] = 2\n",
    "strDict.update([(2,3)])\n",
    "strDict.get(2)"
   ]
  },
  {
   "cell_type": "markdown",
   "metadata": {},
   "source": [
    "#### 只读映射\n",
    "🥶types模块提供一个封装类名叫MappingProxyType，如果给这个类一个映射，它会返回一个只读的映射视图。<br>\n",
    "它是动态的，当原映射改变，这个视图也会同步改变"
   ]
  },
  {
   "cell_type": "code",
   "execution_count": 90,
   "metadata": {},
   "outputs": [
    {
     "data": {
      "text/plain": [
       "mappingproxy({1: 'A'})"
      ]
     },
     "execution_count": 90,
     "metadata": {},
     "output_type": "execute_result"
    }
   ],
   "source": [
    "from types import MappingProxyType\n",
    "obj = {1:'A'}\n",
    "obj_proxy = MappingProxyType(obj)\n",
    "obj_proxy"
   ]
  },
  {
   "cell_type": "code",
   "execution_count": 91,
   "metadata": {},
   "outputs": [
    {
     "data": {
      "text/plain": [
       "mappingproxy({1: 'A', 2: 'B'})"
      ]
     },
     "execution_count": 91,
     "metadata": {},
     "output_type": "execute_result"
    }
   ],
   "source": [
    "obj[2] = 'B'\n",
    "obj_proxy"
   ]
  }
 ],
 "metadata": {
  "kernelspec": {
   "display_name": "Python 3",
   "language": "python",
   "name": "python3"
  },
  "language_info": {
   "codemirror_mode": {
    "name": "ipython",
    "version": 3
   },
   "file_extension": ".py",
   "mimetype": "text/x-python",
   "name": "python",
   "nbconvert_exporter": "python",
   "pygments_lexer": "ipython3",
   "version": "3.7.6"
  },
  "pycharm": {
   "stem_cell": {
    "cell_type": "raw",
    "metadata": {
     "collapsed": false
    },
    "source": []
   }
  }
 },
 "nbformat": 4,
 "nbformat_minor": 1
}
