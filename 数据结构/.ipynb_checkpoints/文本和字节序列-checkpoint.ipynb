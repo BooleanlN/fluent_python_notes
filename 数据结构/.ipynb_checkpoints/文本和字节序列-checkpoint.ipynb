{
 "cells": [
  {
   "cell_type": "markdown",
   "metadata": {
    "collapsed": true
   },
   "source": [
    "###### 🤪文本和字符序列\n",
    "#### 码位和编码\n",
    "在计算机初期，因为使用者集中在美国，所以形成了一套8位一字节的字符集规范，也就是Ascii码；随着计算机在世界范围广泛传播，8位无法将所在国家语言的所有字符进行完整表示，所以催生了立足于本土语言的字符集，比如国内的gb2312、gbk；再然后，为了解决字符集混乱，ISO组织对字符集进行了标准化，提出了Unicode字符集，即使用4～6个十六进制数进行表示。\n",
    "在Unicode推广过程中，没有兼顾到Ascii码，再一方面，Unicode在表示英文字符等时，会存在字节为0的情况，传输效率也会降低，所以，有人就提出了众多的UTF(UCS Transfer Format)编码标准，其中，UTF-8就是按照8位传输数据，且是一种变长的编码格式，节省空间的同时也解决了与Ascii码的兼容问题。 <br>\n",
    " >参考链接  <br>\n",
    "[Unicode 和 UTF-8 有什么区别？](https://www.zhihu.com/question/23374078) <br>\n",
    "[Unicode](https://baike.baidu.com/item/Unicode/750500?fr=aladdin)"
   ]
  },
  {
   "cell_type": "code",
   "execution_count": 1,
   "metadata": {},
   "outputs": [
    {
     "data": {
      "text/plain": [
       "4"
      ]
     },
     "execution_count": 1,
     "metadata": {},
     "output_type": "execute_result"
    }
   ],
   "source": [
    "s = 'café'\n",
    "len(s) # 4个unicode字符"
   ]
  },
  {
   "cell_type": "code",
   "execution_count": 2,
   "metadata": {},
   "outputs": [
    {
     "data": {
      "text/plain": [
       "b'caf\\xc3\\xa9'"
      ]
     },
     "execution_count": 2,
     "metadata": {},
     "output_type": "execute_result"
    }
   ],
   "source": [
    "b = s.encode('utf8')\n",
    "b"
   ]
  },
  {
   "cell_type": "code",
   "execution_count": 3,
   "metadata": {},
   "outputs": [
    {
     "data": {
      "text/plain": [
       "5"
      ]
     },
     "execution_count": 3,
     "metadata": {},
     "output_type": "execute_result"
    }
   ],
   "source": [
    "len(b) # "
   ]
  },
  {
   "cell_type": "code",
   "execution_count": 4,
   "metadata": {},
   "outputs": [
    {
     "data": {
      "text/plain": [
       "'café'"
      ]
     },
     "execution_count": 4,
     "metadata": {},
     "output_type": "execute_result"
    }
   ],
   "source": [
    "b.decode('utf8')"
   ]
  },
  {
   "cell_type": "markdown",
   "metadata": {},
   "source": [
    "#### bytes与bytearray"
   ]
  },
  {
   "cell_type": "markdown",
   "metadata": {},
   "source": [
    "#### 🧐基本的编解码器\n",
    "python自带了超过100种编解码器，用于在文本和字节之间相互转换 <br>\n",
    "常用的编码：\n",
    "- latin1\n",
    "- cp1252\n",
    "- cp437\n",
    "- gb2312\n",
    "- utf-8\n",
    "- utf-16le"
   ]
  },
  {
   "cell_type": "markdown",
   "metadata": {},
   "source": [
    "#### 😅编解码问题\n",
    "1. UnicodeEncoderError\n",
    "  当使用指定编码器将文本换为字节序列时，如果编码器未定义某个字符，则会抛出UnicodeEncoderError错误\n",
    "2. UnicodeDecodeError\n",
    "  将字节序列转为文本时，如果字节序列不是有效的，则会抛出该错误"
   ]
  },
  {
   "cell_type": "code",
   "execution_count": 12,
   "metadata": {},
   "outputs": [
    {
     "data": {
      "text/plain": [
       "b'a&#21271;&#20140;&#24066;b'"
      ]
     },
     "execution_count": 12,
     "metadata": {},
     "output_type": "execute_result"
    }
   ],
   "source": [
    "# 编码问题\n",
    "city = 'a北京市b'\n",
    "# city.encode('utf-8')\n",
    "#city.encode('cp437') # UnicodeEncodeError: 'charmap' codec can't encode characters in position 0-2: character maps to <undefined>\n",
    "city.encode('cp437',errors='ignore') # 忽略\n",
    "city.encode('cp437',errors='replace') #使用？代替无法编码的\n",
    "city.encode('cp437',errors='xmlcharrefreplace') #转为XML实体"
   ]
  },
  {
   "cell_type": "code",
   "execution_count": 16,
   "metadata": {
    "scrolled": true
   },
   "outputs": [
    {
     "data": {
      "text/plain": [
       "'���е\\u07fc���������'"
      ]
     },
     "execution_count": 16,
     "metadata": {},
     "output_type": "execute_result"
    }
   ],
   "source": [
    "# 解码问题\n",
    "country = '大不列颠及北爱尔兰'\n",
    "country_gb = country.encode('gb2312')\n",
    "#country_gb.decode('utf-8') # UnicodeDecodeError: 'utf-8' codec can't decode byte 0xb4 in position 0: invalid start byte\n",
    "country_gb.decode('utf8',errors='replace') # ��代替"
   ]
  },
  {
   "cell_type": "markdown",
   "metadata": {},
   "source": [
    "💁Python3默认使用UTF-8编码源码，python2则使用ASCII。<br>\n",
    "同时，Python3允许在源码中使用非Ascii码标识符"
   ]
  },
  {
   "cell_type": "code",
   "execution_count": 19,
   "metadata": {},
   "outputs": [
    {
     "data": {
      "text/plain": [
       "'a'"
      ]
     },
     "execution_count": 19,
     "metadata": {},
     "output_type": "execute_result"
    }
   ],
   "source": [
    "十三水 = 'a'\n",
    "十三水"
   ]
  },
  {
   "cell_type": "markdown",
   "metadata": {},
   "source": [
    "chardetect库，可以用来检测文件的编码"
   ]
  },
  {
   "cell_type": "code",
   "execution_count": null,
   "metadata": {},
   "outputs": [],
   "source": []
  }
 ],
 "metadata": {
  "kernelspec": {
   "display_name": "Python 3",
   "language": "python",
   "name": "python3"
  },
  "language_info": {
   "codemirror_mode": {
    "name": "ipython",
    "version": 3
   },
   "file_extension": ".py",
   "mimetype": "text/x-python",
   "name": "python",
   "nbconvert_exporter": "python",
   "pygments_lexer": "ipython3",
   "version": "3.7.6"
  }
 },
 "nbformat": 4,
 "nbformat_minor": 1
}
