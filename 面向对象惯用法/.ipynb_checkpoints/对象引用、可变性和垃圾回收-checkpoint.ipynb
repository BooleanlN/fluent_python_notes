{
 "cells": [
  {
   "cell_type": "markdown",
   "metadata": {
    "collapsed": true,
    "pycharm": {
     "is_executing": false
    }
   },
   "source": [
    "### 对象引用、可变性和垃圾回收\n",
    "#### 对象引用\n",
    "类似于Java的引用式变量，Python变量其实也是对某一块内存地址的引用，指针。变量只不过是标注，要将变量视作便利签，而非盒子。"
   ]
  },
  {
   "cell_type": "markdown",
   "metadata": {},
   "source": [
    "#### 标识、相等性和别名\n",
    "对象ID的真正意义在CPython中，id()函数返回的是对象的内存地址，在其他解释器中，可能是别的值，ID一定是唯一的数值标注，而且在对象的生命周期中绝不会变 <br>\n",
    "== 运算符比较的是两个对象的值，而is比较对象的标识，意思是只有两个变量指向同一块内存地址（CPython中），返回True <br>\n",
    "is运算符比==速度快，因为它不能重载，所以Python不需要寻找并调用特殊方法，而是直接比较两个整数ID。而==运算符，实际上调用的是a.\\__eq__\\(b)"
   ]
  },
  {
   "cell_type": "code",
   "execution_count": 4,
   "metadata": {},
   "outputs": [
    {
     "data": {
      "text/plain": [
       "(True, False, True)"
      ]
     },
     "execution_count": 4,
     "metadata": {},
     "output_type": "execute_result"
    }
   ],
   "source": [
    "names = {'alex','rihana','michale','skygrey'}\n",
    "names_s = names\n",
    "names_2 = {'alex','rihana','michale','skygrey'}\n",
    "names == names_2,names is names_2,names is names_s"
   ]
  },
  {
   "cell_type": "markdown",
   "metadata": {},
   "source": [
    "##### 元组的不可变性\n",
    "在之前字典那节，我们有提过有些元组是不可散列的，这是因为元组中存放的元素有时是元素的引用，所以元组的不可变性其实是指元组的物理内容不可变。"
   ]
  },
  {
   "cell_type": "code",
   "execution_count": 5,
   "metadata": {},
   "outputs": [
    {
     "data": {
      "text/plain": [
       "(1, 2, [10, 20, 30])"
      ]
     },
     "execution_count": 5,
     "metadata": {},
     "output_type": "execute_result"
    }
   ],
   "source": [
    "tuple_ex = (1,2,[10,20])\n",
    "tuple_ex[-1].append(30)\n",
    "tuple_ex"
   ]
  },
  {
   "cell_type": "markdown",
   "metadata": {},
   "source": [
    "#### 深复制与浅复制\n",
    "复制列表最简单的方式是使用内置的类型构造方法，或者使用[:]创建副本，然而，这两种方法做的都是浅复制。"
   ]
  },
  {
   "cell_type": "code",
   "execution_count": 12,
   "metadata": {},
   "outputs": [
    {
     "data": {
      "text/plain": [
       "[1, 2, 3, ['a', 'b', 'c'], 'ssss']"
      ]
     },
     "execution_count": 12,
     "metadata": {},
     "output_type": "execute_result"
    }
   ],
   "source": [
    "list_ex = [1,2,3,['a','b','c'],'ssss']\n",
    "list_ex_cp = list(list_ex)\n",
    "list_ex_cp"
   ]
  },
  {
   "cell_type": "code",
   "execution_count": 13,
   "metadata": {},
   "outputs": [
    {
     "data": {
      "text/plain": [
       "[1, 2, 3, ['a', 'b', 'c', 'd'], 'ssss']"
      ]
     },
     "execution_count": 13,
     "metadata": {},
     "output_type": "execute_result"
    }
   ],
   "source": [
    "list_ex[3].append('d')\n",
    "list_ex_cp # 改变原列表，复制的列表也会受到影响"
   ]
  },
  {
   "cell_type": "markdown",
   "metadata": {},
   "source": [
    "上面的例子，说明浅复制复制的是对象的引用，而并非创建一个新对象。<br>\n",
    "这通常与我们的需求不符合，copy模块提供的deepcopy和copy函数能为任意对象做深复制和浅复制。"
   ]
  },
  {
   "cell_type": "code",
   "execution_count": 14,
   "metadata": {},
   "outputs": [
    {
     "data": {
      "text/plain": [
       "[1, 2, 3, ['a', 'b', 'c', 'd'], 'ssss']"
      ]
     },
     "execution_count": 14,
     "metadata": {},
     "output_type": "execute_result"
    }
   ],
   "source": [
    "from copy import deepcopy\n",
    "list_deepcopy = deepcopy(list_ex)\n",
    "list_deepcopy"
   ]
  },
  {
   "cell_type": "code",
   "execution_count": 15,
   "metadata": {},
   "outputs": [
    {
     "data": {
      "text/plain": [
       "([1, 2, 3, ['a', 'b', 'c', 'd'], 'ssss'],\n",
       " [1, 2, 3, ['a', 'b', 'c', 'd', 'e'], 'ssss'])"
      ]
     },
     "execution_count": 15,
     "metadata": {},
     "output_type": "execute_result"
    }
   ],
   "source": [
    "list_ex[3].append('e')\n",
    "list_deepcopy,list_ex"
   ]
  },
  {
   "cell_type": "markdown",
   "metadata": {},
   "source": [
    "#### 函数的参数作为引用时\n",
    "Python唯一支持的参数传递模式是共享传参，共享传参指函数的各个形式参数获得实参中各个引用的副本，也就是说，函数内部的形参是实参的别名。"
   ]
  },
  {
   "cell_type": "code",
   "execution_count": 20,
   "metadata": {},
   "outputs": [
    {
     "data": {
      "text/plain": [
       "(3, 1)"
      ]
     },
     "execution_count": 20,
     "metadata": {},
     "output_type": "execute_result"
    }
   ],
   "source": [
    "def f(a,b):\n",
    "    a += b\n",
    "    return a\n",
    "x = 1\n",
    "y = 2\n",
    "f(x,y),x"
   ]
  },
  {
   "cell_type": "code",
   "execution_count": 21,
   "metadata": {},
   "outputs": [
    {
     "data": {
      "text/plain": [
       "([1, 2, 3, 4, 5, 6], [1, 2, 3, 4, 5, 6])"
      ]
     },
     "execution_count": 21,
     "metadata": {},
     "output_type": "execute_result"
    }
   ],
   "source": [
    "a = [1,2,3]\n",
    "b = [4,5,6]\n",
    "f(a,b),a"
   ]
  },
  {
   "cell_type": "markdown",
   "metadata": {},
   "source": [
    "可选参数可以有默认值，但是我们应该尽量避免使用可变的对象作为参数的默认值"
   ]
  },
  {
   "cell_type": "code",
   "execution_count": 25,
   "metadata": {},
   "outputs": [
    {
     "data": {
      "text/plain": [
       "['luoluo']"
      ]
     },
     "execution_count": 25,
     "metadata": {},
     "output_type": "execute_result"
    }
   ],
   "source": [
    "class Bus:\n",
    "    def __init__(self,passengers=[]):\n",
    "        self.passengers = passengers\n",
    "    def pick(self,name):\n",
    "        self.passengers.append(name)\n",
    "bus1 = Bus()\n",
    "bus1.pick('luoluo')\n",
    "bus2 = Bus()\n",
    "bus2.passengers # 不同实例，共享了同一个列表"
   ]
  },
  {
   "cell_type": "markdown",
   "metadata": {},
   "source": [
    "#### del和垃圾回收\n",
    "在CPython中，垃圾回收使用的主要算法是引用计数。当引用计数归零后，对象立即就被销毁，Cpython会在对象上调用\\__del__\\方法，然后释放分配给对象的内存"
   ]
  },
  {
   "cell_type": "code",
   "execution_count": 26,
   "metadata": {},
   "outputs": [
    {
     "data": {
      "text/plain": [
       "True"
      ]
     },
     "execution_count": 26,
     "metadata": {},
     "output_type": "execute_result"
    }
   ],
   "source": [
    "import weakref\n",
    "s1 = {1,2,3}\n",
    "s2 = s1\n",
    "def bye():\n",
    "    print(\"Gone.  with the wind...\")\n",
    "ender = weakref.finalize(s1,bye) #弱引用对象\n",
    "ender.alive"
   ]
  },
  {
   "cell_type": "code",
   "execution_count": 27,
   "metadata": {},
   "outputs": [
    {
     "data": {
      "text/plain": [
       "True"
      ]
     },
     "execution_count": 27,
     "metadata": {},
     "output_type": "execute_result"
    }
   ],
   "source": [
    "del s1\n",
    "ender.alive"
   ]
  },
  {
   "cell_type": "code",
   "execution_count": 28,
   "metadata": {},
   "outputs": [
    {
     "name": "stdout",
     "output_type": "stream",
     "text": [
      "Gone.  with the wind...\n"
     ]
    },
    {
     "data": {
      "text/plain": [
       "False"
      ]
     },
     "execution_count": 28,
     "metadata": {},
     "output_type": "execute_result"
    }
   ],
   "source": [
    "s2 = 'spam'\n",
    "ender.alive # s2解除绑定"
   ]
  },
  {
   "cell_type": "code",
   "execution_count": null,
   "metadata": {},
   "outputs": [],
   "source": [
    "#### 弱引用\n"
   ]
  }
 ],
 "metadata": {
  "kernelspec": {
   "display_name": "Python 3",
   "language": "python",
   "name": "python3"
  },
  "language_info": {
   "codemirror_mode": {
    "name": "ipython",
    "version": 3
   },
   "file_extension": ".py",
   "mimetype": "text/x-python",
   "name": "python",
   "nbconvert_exporter": "python",
   "pygments_lexer": "ipython3",
   "version": "3.7.6"
  }
 },
 "nbformat": 4,
 "nbformat_minor": 1
}
