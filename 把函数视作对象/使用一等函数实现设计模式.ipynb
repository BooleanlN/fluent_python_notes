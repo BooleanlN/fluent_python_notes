{
 "cells": [
  {
   "cell_type": "markdown",
   "metadata": {
    "collapsed": true,
    "pycharm": {
     "is_executing": false
    }
   },
   "source": [
    "### 策略模式\n",
    "策略模式是设计模式的一种，想象下面这种场景：<br>\n",
    "某电商平台针对不同的情况、客户制定了不同类型的折扣规则，需要将折扣规则与用户相匹配。<br>\n",
    "- 策略一：1000积分以上顾客，每个订单享受5%折扣\n",
    "- 策略二：同一订单中，单个商品超过20个，享受10%折扣\n",
    "- 策略三：vip用户，0.85的折扣 <br>\n",
    "参考链接：[策略模式](https://www.cnblogs.com/lewis0077/p/5133812.html)\n",
    "\n",
    "如果我们不采用策略模式："
   ]
  },
  {
   "cell_type": "code",
   "execution_count": 2,
   "metadata": {},
   "outputs": [],
   "source": [
    "class Order:\n",
    "    def __init__(self,orderinfo,customtype,price):\n",
    "        if orderinfo.score > 1000:\n",
    "            self._price = price * 0.05\n",
    "        elif orderinfo.item > 20:\n",
    "            self._price = price * 0.1\n",
    "        elif customtype == 'vip':\n",
    "            self._price  = price * 0.85"
   ]
  },
  {
   "cell_type": "markdown",
   "metadata": {},
   "source": [
    "上面的方式，如果报价方案很复杂的话，这个方法将很庞大臃肿，所以通常会进一步抽象出方法。"
   ]
  },
  {
   "cell_type": "code",
   "execution_count": 3,
   "metadata": {},
   "outputs": [],
   "source": [
    "class Order:\n",
    "    def __init__(self,orderinfo,customtype,price):\n",
    "        if orderinfo.score > 1000:\n",
    "            self.scorePromo()\n",
    "        elif orderinfo.item > 20:\n",
    "            self.itemPromo()\n",
    "        elif customtype == 'vip':\n",
    "            self.vipPromo()"
   ]
  },
  {
   "cell_type": "markdown",
   "metadata": {},
   "source": [
    "这种方式更好了一点，但是如果我们需要增加一些新的策略，就需要来维护我们的源代码，这违反了面向对象的开闭原则。\n",
    "> 开闭原则：\n",
    "对于扩展是开放的（Open for extension）。这意味着模块的行为是可以扩展的。当应用的需求改变时，我们可以对模块进行扩展，使其具有满足那些改变的新行为。也就是说，我们可以改变模块的功能。\n",
    "对于修改是关闭的（Closed for modification）。对模块行为进行扩展时，不必改动模块的源代码或者二进制代码。\n"
   ]
  },
  {
   "cell_type": "markdown",
   "metadata": {},
   "source": [
    "于是，我们将策略抽象出来，提供一个接口类，新的策略继承接口，并提供一个上下文类，用于调用相应的策略。"
   ]
  },
  {
   "cell_type": "code",
   "execution_count": 8,
   "metadata": {},
   "outputs": [],
   "source": [
    "from abc import ABC,abstractmethod\n",
    "class Promotion():\n",
    "    @abstractmethod\n",
    "    def discount(self,order):\n",
    "        \"\"\"返回折扣金额\"\"\""
   ]
  },
  {
   "cell_type": "code",
   "execution_count": 14,
   "metadata": {},
   "outputs": [],
   "source": [
    "class VipPromo(Promotion):\n",
    "    \"\"\"具体策略\"\"\"\n",
    "    def discount(self,order):\n",
    "        return order.price * 0.85"
   ]
  },
  {
   "cell_type": "code",
   "execution_count": 15,
   "metadata": {},
   "outputs": [],
   "source": [
    "class OrderContext: \n",
    "    \"\"\"上下文\"\"\"\n",
    "    def __init__(self,customer,promotion):\n",
    "        self._promotion = promotion\n",
    "    def due(self):\n",
    "        discount = self._promotion.discount(self)\n",
    "        return discount"
   ]
  },
  {
   "cell_type": "markdown",
   "metadata": {},
   "source": [
    "这时，我们如果遇到了新的活动这类的，只要继承promotion接口并实现新的策略类即可"
   ]
  },
  {
   "cell_type": "markdown",
   "metadata": {},
   "source": [
    "#### python简化策略模式\n",
    "在我们上面的实现中，每一个具体策略都是一个类，而且只定义了一个方法，可以将具体策略换成简单的函数，还去掉了抽象类"
   ]
  },
  {
   "cell_type": "code",
   "execution_count": 18,
   "metadata": {},
   "outputs": [],
   "source": [
    "class OrderContext: \n",
    "    \"\"\"上下文\"\"\"\n",
    "    def __init__(self,customer,promotion):\n",
    "        self._promotion = promotion\n",
    "    def due(self):\n",
    "        discount = self._promotion(self)\n",
    "        return discount\n",
    "def vip_promotion(order):\n",
    "    return order.price * 0.85\n",
    "#调用\n",
    "#order = OrderContext(customer,vip_promotion)"
   ]
  },
  {
   "cell_type": "markdown",
   "metadata": {},
   "source": [
    "##### 选择最好策略"
   ]
  },
  {
   "cell_type": "code",
   "execution_count": 21,
   "metadata": {},
   "outputs": [],
   "source": [
    "promos = [vip_promotion,]\n",
    "def best_promotion(order):\n",
    "    return max(promo(order) for promo in promos)"
   ]
  },
  {
   "cell_type": "markdown",
   "metadata": {},
   "source": [
    "##### 找出全部策略\n",
    "globals()函数返回一个字典，表示当前的全局符号表，这个符号表始终针对当前模块（对函数和方法来说，是定义他们的模块）"
   ]
  },
  {
   "cell_type": "code",
   "execution_count": 24,
   "metadata": {},
   "outputs": [
    {
     "data": {
      "text/plain": [
       "[<function __main__.vip_promotion(order)>]"
      ]
     },
     "execution_count": 24,
     "metadata": {},
     "output_type": "execute_result"
    }
   ],
   "source": [
    "promos = [globals()[name] for name in globals() if name.endswith('_promotion') and name != 'best_promotion']\n",
    "promos"
   ]
  },
  {
   "cell_type": "markdown",
   "metadata": {},
   "source": [
    "### 命令模式\n",
    "命令模式的目的是解耦调用操作的对象和提供实现的对象"
   ]
  }
 ],
 "metadata": {
  "kernelspec": {
   "display_name": "Python 3",
   "language": "python",
   "name": "python3"
  },
  "language_info": {
   "codemirror_mode": {
    "name": "ipython",
    "version": 3
   },
   "file_extension": ".py",
   "mimetype": "text/x-python",
   "name": "python",
   "nbconvert_exporter": "python",
   "pygments_lexer": "ipython3",
   "version": "3.7.6"
  }
 },
 "nbformat": 4,
 "nbformat_minor": 1
}
