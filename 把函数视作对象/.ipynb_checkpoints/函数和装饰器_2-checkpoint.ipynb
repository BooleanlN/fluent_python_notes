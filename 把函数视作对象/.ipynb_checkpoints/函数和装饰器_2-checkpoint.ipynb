{
 "cells": [
  {
   "cell_type": "code",
   "execution_count": 24,
   "metadata": {
    "pycharm": {
     "is_executing": false
    }
   },
   "outputs": [],
   "source": [
    "### 实现一个简单的装饰器\n",
    "import time\n",
    "def clock(func):\n",
    "    def clocked(*args,**kargs):\n",
    "#         print(kargs)\n",
    "        start = time.perf_counter()\n",
    "        result = func(*args,**kargs)\n",
    "        elapsed = time.perf_counter() - start\n",
    "        name = func.__name__\n",
    "        arg_str = \"\".join(repr(arg) for arg in args)\n",
    "        print(\"[{}]{}({})--->{}\".format(str(elapsed),name,arg_str,result))\n",
    "        return result\n",
    "    return clocked\n",
    "        "
   ]
  },
  {
   "cell_type": "code",
   "execution_count": 12,
   "metadata": {
    "pycharm": {
     "is_executing": false,
     "name": "#%%\n"
    }
   },
   "outputs": [],
   "source": [
    "@clock\n",
    "def factorial(n,ss='1'):\n",
    "    \"\"\"this is a factorial function\"\"\"\n",
    "    return 1 if n < 2 else n * factorial(n-1,ss='1')\n"
   ]
  },
  {
   "cell_type": "code",
   "execution_count": 13,
   "metadata": {
    "pycharm": {
     "is_executing": false,
     "name": "#%%\n"
    }
   },
   "outputs": [
    {
     "name": "stdout",
     "output_type": "stream",
     "text": [
      "{}\n",
      "{'ss': '1'}\n",
      "{'ss': '1'}\n",
      "{'ss': '1'}\n",
      "{'ss': '1'}\n",
      "{'ss': '1'}\n",
      "[7.169999776124314e-07]factorial(1)--->1\n",
      "[4.953999996359926e-05]factorial(2)--->2\n",
      "[8.849800002508346e-05]factorial(3)--->6\n",
      "[0.00012627999996084327]factorial(4)--->24\n",
      "[0.00016678500003308727]factorial(5)--->120\n",
      "[0.00021386600002415435]factorial(6)--->720\n"
     ]
    },
    {
     "data": {
      "text/plain": [
       "720"
      ]
     },
     "execution_count": 13,
     "metadata": {},
     "output_type": "execute_result"
    }
   ],
   "source": [
    "factorial(6)"
   ]
  },
  {
   "cell_type": "code",
   "execution_count": 14,
   "metadata": {
    "pycharm": {
     "name": "#%%\n"
    }
   },
   "outputs": [
    {
     "data": {
      "text/plain": [
       "'clocked'"
      ]
     },
     "execution_count": 14,
     "metadata": {},
     "output_type": "execute_result"
    }
   ],
   "source": [
    "factorial.__name__ #被覆盖"
   ]
  },
  {
   "cell_type": "code",
   "execution_count": 15,
   "metadata": {},
   "outputs": [
    {
     "name": "stdout",
     "output_type": "stream",
     "text": [
      "Help on function clocked in module __main__:\n",
      "\n",
      "clocked(*args, **kargs)\n",
      "\n"
     ]
    }
   ],
   "source": [
    "help(factorial) # 被覆盖"
   ]
  },
  {
   "cell_type": "markdown",
   "metadata": {},
   "source": [
    "可以看出，使用原有的装饰器，会导致被装饰的函数的属性被覆盖，为了保留被装饰函数的原有属性，我们可以使用functools.wraps,它的作用是协助构建良好的装饰器。"
   ]
  },
  {
   "cell_type": "code",
   "execution_count": 16,
   "metadata": {},
   "outputs": [],
   "source": [
    "from functools import wraps\n",
    "import time\n",
    "def clock_wrap(func):\n",
    "    @wraps(func)\n",
    "    def clocked(*args,**kargs):\n",
    "        print(kargs)\n",
    "        start = time.perf_counter()\n",
    "        result = func(*args,**kargs)\n",
    "        elapsed = time.perf_counter() - start\n",
    "        name = func.__name__\n",
    "        arg_str = \"\".join(repr(arg) for arg in args)\n",
    "        print(\"[{}]{}({})--->{}\".format(str(elapsed),name,arg_str,result))\n",
    "        return result\n",
    "    return clocked\n",
    "@clock_wrap\n",
    "def factorial(n,ss='1'):\n",
    "    \"\"\"this is a factorial function\"\"\"\n",
    "    return 1 if n < 2 else n * factorial(n-1,ss='1')        "
   ]
  },
  {
   "cell_type": "code",
   "execution_count": 17,
   "metadata": {},
   "outputs": [
    {
     "data": {
      "text/plain": [
       "'factorial'"
      ]
     },
     "execution_count": 17,
     "metadata": {},
     "output_type": "execute_result"
    }
   ],
   "source": [
    "factorial.__name__"
   ]
  },
  {
   "cell_type": "code",
   "execution_count": 18,
   "metadata": {},
   "outputs": [
    {
     "name": "stdout",
     "output_type": "stream",
     "text": [
      "Help on function factorial in module __main__:\n",
      "\n",
      "factorial(n, ss='1')\n",
      "    this is a factorial function\n",
      "\n"
     ]
    }
   ],
   "source": [
    "help(factorial)"
   ]
  },
  {
   "cell_type": "markdown",
   "metadata": {},
   "source": [
    "python内置了三个用于装饰方法的函数，property、classmethod、staticmethod，另外常用的装饰器还有标准库中的lru_cache与singledispacth.<br>\n",
    "lru_cache实现了备忘功能，是一项优化技术，它把耗时的函数的结果保存起来，避免传入相同的参数时，重复计算。从它的名字我们可以看出，它使用的是LRU算法，也就是最近最少使用算法，也就是我们的页置换算法之一。<br>\n",
    "下面是使用lru_cache装饰器的斐波那契函数与未使用时的比较。"
   ]
  },
  {
   "cell_type": "code",
   "execution_count": 26,
   "metadata": {},
   "outputs": [
    {
     "name": "stdout",
     "output_type": "stream",
     "text": [
      "[6.859772838652134e-07]fibanacci(0)--->1\n",
      "[5.540205165743828e-07]fibanacci(1)--->1\n",
      "[0.00021288299467414618]fibanacci(2)--->2\n",
      "[3.8699363358318806e-07]fibanacci(1)--->1\n",
      "[4.3498585000634193e-07]fibanacci(0)--->1\n",
      "[3.979948814958334e-07]fibanacci(1)--->1\n",
      "[4.4424989027902484e-05]fibanacci(2)--->2\n",
      "[8.707199594937265e-05]fibanacci(3)--->3\n",
      "[0.0003426829935051501]fibanacci(4)--->5\n",
      "[3.230234142392874e-07]fibanacci(1)--->1\n",
      "[3.190070856362581e-07]fibanacci(0)--->1\n",
      "[3.5899574868381023e-07]fibanacci(1)--->1\n",
      "[4.1539984522387385e-05]fibanacci(2)--->2\n",
      "[8.30120116006583e-05]fibanacci(3)--->3\n",
      "[3.239838406443596e-07]fibanacci(0)--->1\n",
      "[3.2800016924738884e-07]fibanacci(1)--->1\n",
      "[4.175800131633878e-05]fibanacci(2)--->2\n",
      "[2.8597423806786537e-07]fibanacci(1)--->1\n",
      "[5.920010153204203e-07]fibanacci(0)--->1\n",
      "[3.149907570332289e-07]fibanacci(1)--->1\n",
      "[4.590299795381725e-05]fibanacci(2)--->2\n",
      "[8.862800314091146e-05]fibanacci(3)--->3\n",
      "[0.0001715589896775782]fibanacci(4)--->5\n",
      "[0.00029473198810592294]fibanacci(5)--->8\n",
      "[0.0006785699806641787]fibanacci(6)--->13\n"
     ]
    },
    {
     "data": {
      "text/plain": [
       "13"
      ]
     },
     "execution_count": 26,
     "metadata": {},
     "output_type": "execute_result"
    }
   ],
   "source": [
    "@clock\n",
    "def fibanacci(n):\n",
    "    if n < 2:\n",
    "        return 1\n",
    "    return fibanacci(n-2) + fibanacci(n-1)\n",
    "fibanacci(6)"
   ]
  },
  {
   "cell_type": "code",
   "execution_count": 34,
   "metadata": {},
   "outputs": [
    {
     "name": "stdout",
     "output_type": "stream",
     "text": [
      "[4.959874786436558e-07]fibanacci_lru(0)--->1\n",
      "[6.359769031405449e-07]fibanacci_lru(1)--->1\n",
      "[0.0002941850107163191]fibanacci_lru(2)--->2\n",
      "[1.4389806892722845e-06]fibanacci_lru(3)--->3\n",
      "[0.00043504100176505744]fibanacci_lru(4)--->5\n",
      "[7.810012903064489e-07]fibanacci_lru(5)--->8\n",
      "[0.0005209250084590167]fibanacci_lru(6)--->13\n"
     ]
    },
    {
     "data": {
      "text/plain": [
       "(13, CacheInfo(hits=4, misses=7, maxsize=128, currsize=7))"
      ]
     },
     "execution_count": 34,
     "metadata": {},
     "output_type": "execute_result"
    }
   ],
   "source": [
    "from functools import lru_cache\n",
    "@lru_cache()\n",
    "@clock\n",
    "def fibanacci_lru(n):\n",
    "    if n < 2:\n",
    "        return 1\n",
    "    return fibanacci_lru(n-2) + fibanacci_lru(n-1)\n",
    "fibanacci_lru(6),fibanacci_lru.cache_info()"
   ]
  },
  {
   "cell_type": "markdown",
   "metadata": {},
   "source": [
    "可以看出，执行时间减少了，而且计算n的每个值都只调用了一次。<br>\n",
    "lru_cache接受两个配置参数，maxsize用于指定存储多少个调用的结果，应该设置为2的幂，typed参数如果设为True，则会把不同参数类型得到\n",
    "的结果分开保存。因为lru_cache使用字典存储，所以被lru_cache装饰的函数，它的所有参数必须是可散列的。"
   ]
  },
  {
   "cell_type": "markdown",
   "metadata": {},
   "source": [
    "因为python不支持函数和方法重载，所以不能使用不同的签名定义某一个函数，也无法使用不同的方式处理不同的数据类型，如果使用ifelse，整个函数\n",
    "又回变得臃肿庞大。<br>\n",
    "python3.4新增functools.singledispatch装饰器可以把整体方案拆分成多个模块，甚至可以为无法修改的类提供专门的函数。使用该装饰器的函数会\n",
    "变为泛函数。<br>\n",
    ">泛函数：根据第一个参数的类型，以不同方式执行相同操作的一组函数。"
   ]
  },
  {
   "cell_type": "code",
   "execution_count": 35,
   "metadata": {},
   "outputs": [],
   "source": [
    "from functools import singledispatch\n",
    "from collections import abc\n",
    "import numbers\n",
    "import html\n",
    "# singledispatch标记处理的基函数\n",
    "@singledispatch \n",
    "def htmlize(obj):\n",
    "    content = html.escape(repr(obj))\n",
    "    return '<pre>{}</pre>'.format(content)\n",
    "#各个专门函数使用@base_function.register(type)来装饰\n",
    "@htmlize.register(str)\n",
    "def _(text):\n",
    "    content = html.escape(text).replace('\\n','<br>\\n')\n",
    "    return '<p>{0}</p>'.format(content)\n",
    "@htmlize.register(numbers.Integral)\n",
    "def _(n):\n",
    "    return '<pre>{0}（0x{0:x}）</pre>'.format(n)"
   ]
  },
  {
   "cell_type": "code",
   "execution_count": 36,
   "metadata": {},
   "outputs": [
    {
     "data": {
      "text/plain": [
       "'<p>adsfd</p>'"
      ]
     },
     "execution_count": 36,
     "metadata": {},
     "output_type": "execute_result"
    }
   ],
   "source": [
    "htmlize('adsfd')"
   ]
  },
  {
   "cell_type": "code",
   "execution_count": 38,
   "metadata": {},
   "outputs": [
    {
     "data": {
      "text/plain": [
       "'<pre>18（0x12）</pre>'"
      ]
     },
     "execution_count": 38,
     "metadata": {},
     "output_type": "execute_result"
    }
   ],
   "source": [
    "htmlize(18)"
   ]
  },
  {
   "cell_type": "markdown",
   "metadata": {},
   "source": [
    "只要可能，注册的专门函数应该处理抽象基类，不要处理具体实现，这样代码支持的兼容类型更加广泛。"
   ]
  },
  {
   "cell_type": "markdown",
   "metadata": {},
   "source": [
    "可以通过叠放装饰器的方式，将若干个装饰器按顺序应用到函数上。"
   ]
  },
  {
   "cell_type": "markdown",
   "metadata": {},
   "source": [
    "#### 参数化装饰器\n",
    "在使用装饰器时，有些是可以携带参数的，在阅读这些装饰器的源码，我们可以了解到，这些函数本身并不是对函数进行最终装饰的装饰函数，如lru_cache，它们其实是装饰器工厂函数。"
   ]
  },
  {
   "cell_type": "code",
   "execution_count": null,
   "metadata": {},
   "outputs": [],
   "source": [
    "def lru_cache(maxsize=128, typed=False):\n",
    "    if isinstance(maxsize, int):\n",
    "        if maxsize < 0:\n",
    "            maxsize = 0\n",
    "    elif maxsize is not None:\n",
    "        raise TypeError('Expected maxsize to be an integer or None')\n",
    "    #decorating_function 最终返回的装饰器\n",
    "    def decorating_function(user_function):\n",
    "        wrapper = _lru_cache_wrapper(user_function, maxsize, typed, _CacheInfo)\n",
    "        return update_wrapper(wrapper, user_function)\n",
    "\n",
    "    return decorating_function"
   ]
  }
 ],
 "metadata": {
  "kernelspec": {
   "display_name": "Python 3",
   "language": "python",
   "name": "python3"
  },
  "language_info": {
   "codemirror_mode": {
    "name": "ipython",
    "version": 3
   },
   "file_extension": ".py",
   "mimetype": "text/x-python",
   "name": "python",
   "nbconvert_exporter": "python",
   "pygments_lexer": "ipython3",
   "version": "3.7.6"
  },
  "pycharm": {
   "stem_cell": {
    "cell_type": "raw",
    "metadata": {
     "collapsed": false
    },
    "source": []
   }
  }
 },
 "nbformat": 4,
 "nbformat_minor": 1
}
