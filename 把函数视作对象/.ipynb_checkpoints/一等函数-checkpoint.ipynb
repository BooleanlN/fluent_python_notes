{
 "cells": [
  {
   "cell_type": "markdown",
   "metadata": {
    "collapsed": true,
    "pycharm": {
     "is_executing": false
    }
   },
   "source": [
    "### 一等函数\n",
    "😟在Python中，函数是一等对象，它满足下面的功能：\n",
    " - 在运行时创建\n",
    " - 能赋值给变量或数据结构中的元素\n",
    " - 能作为参数传给函数\n",
    " - 能作为函数的返回结果\n",
    "这部分与javaScript类似。\n"
   ]
  },
  {
   "cell_type": "markdown",
   "metadata": {
    "pycharm": {
     "name": "#%%\n"
    }
   },
   "source": [
    "#### 把函数视作对象\n",
    "在python中创建声明的函数，其实是function类的实例，且可以作为参数，传递给“高阶函数”"
   ]
  },
  {
   "cell_type": "code",
   "execution_count": 11,
   "metadata": {},
   "outputs": [
    {
     "data": {
      "text/plain": [
       "('\\n    this is depict content\\n    ', function, [4, 3, 2, 1, 0, 1, 2])"
      ]
     },
     "execution_count": 11,
     "metadata": {},
     "output_type": "execute_result"
    }
   ],
   "source": [
    "def toabs(number):\n",
    "    \"\"\"\n",
    "    this is depict content\n",
    "    \"\"\"\n",
    "    return abs(number)\n",
    "toabs.__doc__,type(toabs),list(map(toabs,range(-4,3))) #高阶函数"
   ]
  },
  {
   "cell_type": "markdown",
   "metadata": {},
   "source": [
    "#### 高阶函数\n",
    "😢接收函数为参数，或者把函数作为结果返回的函数是高阶函数 <br>\n",
    "常用的高阶函数:\n",
    "- sorted：可选的len参数，用于提供一个函数用于排序\n",
    "- map：对可迭代类型中的每个元素，执行相同操作，返回一个生成器，现在多用生成器表达式代替\n",
    "- filter：对可迭代类型中的每个元素，执行相同的筛选操作，返回一个包含筛选后结果的生成器，现在多用生成器表达式代替\n",
    "- reduce：对可迭代类型进行求和，py3不再是内置函数，可用sum代替"
   ]
  },
  {
   "cell_type": "code",
   "execution_count": 19,
   "metadata": {},
   "outputs": [
    {
     "data": {
      "text/plain": [
       "['banana', 'apple', 'raspberry', 'strawberry', 'cherry']"
      ]
     },
     "execution_count": 19,
     "metadata": {},
     "output_type": "execute_result"
    }
   ],
   "source": [
    "arr = ['apple','strawberry','banana','raspberry','cherry']\n",
    "sorted(arr,key=lambda item:item[::-1])"
   ]
  },
  {
   "cell_type": "code",
   "execution_count": 23,
   "metadata": {},
   "outputs": [
    {
     "data": {
      "text/plain": [
       "(['elppa', 'yrrebwarts', 'ananab', 'yrrebpsar', 'yrrehc'],\n",
       " ['elppa', 'yrrebwarts', 'ananab', 'yrrebpsar', 'yrrehc'])"
      ]
     },
     "execution_count": 23,
     "metadata": {},
     "output_type": "execute_result"
    }
   ],
   "source": [
    "list(map(lambda item:item[::-1],arr)),[item[::-1] for item in arr] #替代"
   ]
  },
  {
   "cell_type": "code",
   "execution_count": 24,
   "metadata": {},
   "outputs": [
    {
     "data": {
      "text/plain": [
       "(['strawberry', 'banana', 'raspberry', 'cherry'],\n",
       " ['strawberry', 'banana', 'raspberry', 'cherry'])"
      ]
     },
     "execution_count": 24,
     "metadata": {},
     "output_type": "execute_result"
    }
   ],
   "source": [
    "list(filter(lambda item:len(item)>5,arr)),[item for item in arr if len(item)>5] #替代"
   ]
  },
  {
   "cell_type": "code",
   "execution_count": 33,
   "metadata": {},
   "outputs": [
    {
     "data": {
      "text/plain": [
       "False"
      ]
     },
     "execution_count": 33,
     "metadata": {},
     "output_type": "execute_result"
    }
   ],
   "source": [
    "from functools import reduce\n",
    "reduce(lambda x,y:x+y,range(10)),sum(range(10))#替代"
   ]
  },
  {
   "cell_type": "code",
   "execution_count": 38,
   "metadata": {},
   "outputs": [
    {
     "data": {
      "text/plain": [
       "(False, True)"
      ]
     },
     "execution_count": 38,
     "metadata": {},
     "output_type": "execute_result"
    }
   ],
   "source": [
    "#😇sum是归约函数，其他类似的还有all、any\n",
    "all([0,1,2]),any([0,1,2])"
   ]
  },
  {
   "cell_type": "markdown",
   "metadata": {},
   "source": [
    "#### 匿名函数\n",
    "lambda关键字会在python表达式中创建匿名函数，lambda函数的定义体中只能使用纯表达式，不能赋值，也不能使用while、try等Python语句。<br>\n",
    "与def相同，lambda也会创建一个函数实例"
   ]
  },
  {
   "cell_type": "markdown",
   "metadata": {},
   "source": [
    "#### 可调用对象\n",
    "- 用户定义的函数 def\\lambda\n",
    "- 内置函数\n",
    "- 内置方法\n",
    "- 方法：类定义体内的函数\n",
    "- 类\n",
    "- 类的实例\n",
    "- 生成器函数 \n",
    "<br>\n",
    "可以通过callable()函数，判断对象是否可调用"
   ]
  },
  {
   "cell_type": "code",
   "execution_count": 41,
   "metadata": {},
   "outputs": [
    {
     "data": {
      "text/plain": [
       "True"
      ]
     },
     "execution_count": 41,
     "metadata": {},
     "output_type": "execute_result"
    }
   ],
   "source": [
    "callable(callable)"
   ]
  },
  {
   "cell_type": "code",
   "execution_count": 45,
   "metadata": {},
   "outputs": [
    {
     "data": {
      "text/plain": [
       "2"
      ]
     },
     "execution_count": 45,
     "metadata": {},
     "output_type": "execute_result"
    }
   ],
   "source": [
    "#### 自定义可调用类型\n",
    "import random\n",
    "class BingoCage:\n",
    "    def __init__(self,item):\n",
    "        self._items = list(item)\n",
    "        random.shuffle(self._items)\n",
    "    def pick(self):\n",
    "        try:\n",
    "            return self._items.pop()\n",
    "        except IndexError:\n",
    "            raise LookupError('pick from empty BingoCage')\n",
    "    def __call__(self):\n",
    "        return self.pick()\n",
    "bingocage = BingoCage(range(10))\n",
    "bingocage()"
   ]
  },
  {
   "cell_type": "markdown",
   "metadata": {},
   "source": [
    " #### 函数参数处理机制\n",
    " Python最好的特性之一是提供了极为灵活的参数处理机制。包含了定位参数、默认参数、可变参数、可变关键字参数、仅限关键字参数等。"
   ]
  },
  {
   "cell_type": "code",
   "execution_count": 62,
   "metadata": {},
   "outputs": [
    {
     "name": "stdout",
     "output_type": "stream",
     "text": [
      "参数类型：POSITIONAL_OR_KEYWORD，参数名：a，参数默认值<class 'inspect._empty'>\n",
      "参数类型：POSITIONAL_OR_KEYWORD，参数名：b，参数默认值<class 'inspect._empty'>\n",
      "参数类型：POSITIONAL_OR_KEYWORD，参数名：c，参数默认值<class 'inspect._empty'>\n"
     ]
    }
   ],
   "source": [
    "from inspect import signature\n",
    "def analyzeFun(fun):\n",
    "    sig = signature(fun)\n",
    "    for name,param in sig.parameters.items():\n",
    "        kind = param.kind\n",
    "        print('参数类型：{}，参数名：{}，参数默认值{}'.format(str(param.kind),name,param.default))\n",
    "# 定位参数\n",
    "def func(a,b,c):\n",
    "    pass\n",
    "analyzeFun(func)"
   ]
  },
  {
   "cell_type": "code",
   "execution_count": 64,
   "metadata": {},
   "outputs": [
    {
     "name": "stdout",
     "output_type": "stream",
     "text": [
      "参数类型：POSITIONAL_OR_KEYWORD，参数名：b，参数默认值<class 'inspect._empty'>\n",
      "参数类型：POSITIONAL_OR_KEYWORD，参数名：c，参数默认值<class 'inspect._empty'>\n",
      "参数类型：POSITIONAL_OR_KEYWORD，参数名：a，参数默认值1\n"
     ]
    }
   ],
   "source": [
    "#默认参数\n",
    "def func(b,c,a='1'):\n",
    "    pass\n",
    "analyzeFun(func)"
   ]
  },
  {
   "cell_type": "code",
   "execution_count": 77,
   "metadata": {},
   "outputs": [
    {
     "name": "stdout",
     "output_type": "stream",
     "text": [
      "参数类型：POSITIONAL_OR_KEYWORD，参数名：a，参数默认值<class 'inspect._empty'>\n",
      "参数类型：POSITIONAL_OR_KEYWORD，参数名：b，参数默认值<class 'inspect._empty'>\n",
      "参数类型：VAR_POSITIONAL，参数名：c，参数默认值<class 'inspect._empty'>\n"
     ]
    }
   ],
   "source": [
    "# 可变参数\n",
    "def func(a,b,*c):\n",
    "    print(c) # 接收不指定传入数的参数，并将其以元组形式传入函数体内\n",
    "analyzeFun(func)"
   ]
  },
  {
   "cell_type": "code",
   "execution_count": 76,
   "metadata": {},
   "outputs": [
    {
     "name": "stdout",
     "output_type": "stream",
     "text": [
      "(4, 5, 6, 7)\n"
     ]
    }
   ],
   "source": [
    "func(1,23,4,5,6,7)"
   ]
  },
  {
   "cell_type": "code",
   "execution_count": 92,
   "metadata": {},
   "outputs": [
    {
     "name": "stdout",
     "output_type": "stream",
     "text": [
      "参数类型：POSITIONAL_OR_KEYWORD，参数名：a，参数默认值<class 'inspect._empty'>\n",
      "参数类型：POSITIONAL_OR_KEYWORD，参数名：b，参数默认值<class 'inspect._empty'>\n",
      "参数类型：KEYWORD_ONLY，参数名：key，参数默认值<class 'inspect._empty'>\n"
     ]
    }
   ],
   "source": [
    "#仅限关键字参数\n",
    "#python3提供仅限关键字参数，在可变参数之后\n",
    "def func(a,b,*,key):\n",
    "    print(key)\n",
    "analyzeFun(func)"
   ]
  },
  {
   "cell_type": "code",
   "execution_count": 93,
   "metadata": {},
   "outputs": [
    {
     "name": "stdout",
     "output_type": "stream",
     "text": [
      "参数类型：POSITIONAL_OR_KEYWORD，参数名：a，参数默认值<class 'inspect._empty'>\n",
      "参数类型：POSITIONAL_OR_KEYWORD，参数名：b，参数默认值<class 'inspect._empty'>\n",
      "参数类型：VAR_KEYWORD，参数名：kargs，参数默认值<class 'inspect._empty'>\n"
     ]
    }
   ],
   "source": [
    "#可变关键字参数\n",
    "def func(a,b,**kargs):\n",
    "    print(kargs)\n",
    "analyzeFun(func)"
   ]
  },
  {
   "cell_type": "code",
   "execution_count": 94,
   "metadata": {},
   "outputs": [
    {
     "name": "stdout",
     "output_type": "stream",
     "text": [
      "{'c': 1, 'd': 2}\n"
     ]
    }
   ],
   "source": [
    "func(1,2,**{'c':1,'d':2})"
   ]
  },
  {
   "cell_type": "code",
   "execution_count": 95,
   "metadata": {},
   "outputs": [
    {
     "name": "stdout",
     "output_type": "stream",
     "text": [
      "{'c': 1, 'd': 2}\n"
     ]
    }
   ],
   "source": [
    "func(1,2,c=1,d=2)"
   ]
  },
  {
   "cell_type": "markdown",
   "metadata": {},
   "source": [
    "🤪函数参数处理机制：<br>\n",
    "当一个函数被调用时，输入的参数会以如下几种方式赋值给形参：<br>\n",
    "\n",
    "对于每个形参，都有一个参数槽用于存放将要赋给这个参数的值。<br>\n",
    "已经赋过值得参数槽被标记为‘filled’，没有赋值的参数槽仍然会被视为‘empty’<br>\n",
    "初始化时，所有的参数槽都被标记为空。 <br>\n",
    "位置参数第一个被赋值，接下来是关键字参数。<br>\n",
    "对于每一个位置参数：<br>\n",
    "先尝试将值绑定到第一个空的参数槽，如果这个参数槽不是一个可变变量的参数槽，将它标记为’filled’<br>\n",
    "否则，如果下一个空槽是可变参数槽，就将所有剩下的非关键字参数值放到这个可变参数槽里。<br>\n",
    "对于每一个关键字参数：<br>\n",
    "如果存在与关键字命名相同的参数，就把这个实参的值赋给这个关键字参数槽。如果所有的参数槽都已经被填满了，会引发错误异常<br>\n",
    "否则，如果存在一个关键字 字典的关键字参数，这个参数会被添加到一个字典：关键字为此字典的键，如果这个键已经存在，会报错。<br>\n",
    "否则， 如果不存在keyword dictionary， 而且没有匹配到参数名，报错。<br>\n",
    "最后：<br>\n",
    "如果可变变量的参数槽仍然没有填充，则赋一个空的元组作为它的值。<br>\n",
    "对每一个剩余的空参数槽：如果这个参数槽有默认值，就把这个参数槽用默认值填充。如果没有默认值，报错。<br>\n",
    "取自(keyword-only Arguments)[https://blog.csdn.net/littleRpl/article/details/89457557#45] "
   ]
  },
  {
   "cell_type": "code",
   "execution_count": 109,
   "metadata": {},
   "outputs": [],
   "source": [
    "# openpyxl 保存excel\n",
    "from openpyxl import Workbook\n",
    "wb = Workbook()\n",
    "ws = wb.active\n",
    "ws.title = \"New Title\"\n",
    "index = 1\n",
    "with open(\"./xxx.txt\",'rb') as f:\n",
    "    lines = [line.decode('utf-8') for line in f.readlines()]\n",
    "    res = \"\".join(lines)\n",
    "    ws.cell(row=index,column=1).value = res\n",
    "    index+=1"
   ]
  },
  {
   "cell_type": "code",
   "execution_count": 110,
   "metadata": {},
   "outputs": [],
   "source": [
    "wb.save(\"xxx.xlsx\")"
   ]
  },
  {
   "cell_type": "code",
   "execution_count": null,
   "metadata": {},
   "outputs": [],
   "source": []
  }
 ],
 "metadata": {
  "kernelspec": {
   "display_name": "Python 3",
   "language": "python",
   "name": "python3"
  },
  "language_info": {
   "codemirror_mode": {
    "name": "ipython",
    "version": 3
   },
   "file_extension": ".py",
   "mimetype": "text/x-python",
   "name": "python",
   "nbconvert_exporter": "python",
   "pygments_lexer": "ipython3",
   "version": "3.7.6"
  },
  "pycharm": {
   "stem_cell": {
    "cell_type": "raw",
    "metadata": {
     "collapsed": false
    },
    "source": []
   }
  }
 },
 "nbformat": 4,
 "nbformat_minor": 1
}
