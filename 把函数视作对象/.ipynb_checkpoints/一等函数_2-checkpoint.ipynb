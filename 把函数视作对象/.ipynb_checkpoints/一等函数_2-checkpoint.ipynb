{
 "cells": [
  {
   "cell_type": "markdown",
   "metadata": {
    "collapsed": true,
    "pycharm": {
     "is_executing": false
    }
   },
   "source": [
    "#### 🤏函数内省\n",
    "内省是指计算机程序在运行时检查对象类型的一种能力，通常也可以称作运行时类型检查。我们可以通过内省获得\n",
    "对象的所有信息。\n",
    "##### dir\n",
    "dir函数是内省机制一个重要的内置函数，这个函数可以将对象的所有属性以字符串的格式返回。"
   ]
  },
  {
   "cell_type": "code",
   "execution_count": 7,
   "metadata": {
    "pycharm": {
     "is_executing": false,
     "name": "#%%\n"
    },
    "scrolled": true
   },
   "outputs": [
    {
     "data": {
      "text/plain": [
       "['__add__',\n",
       " '__class__',\n",
       " '__contains__',\n",
       " '__delattr__',\n",
       " '__delitem__',\n",
       " '__dict__',\n",
       " '__dir__',\n",
       " '__doc__',\n",
       " '__eq__',\n",
       " '__format__',\n",
       " '__ge__',\n",
       " '__getattribute__',\n",
       " '__getitem__',\n",
       " '__gt__',\n",
       " '__hash__',\n",
       " '__iadd__',\n",
       " '__imul__',\n",
       " '__init__',\n",
       " '__init_subclass__',\n",
       " '__iter__',\n",
       " '__le__',\n",
       " '__len__',\n",
       " '__lt__',\n",
       " '__module__',\n",
       " '__mul__',\n",
       " '__ne__',\n",
       " '__new__',\n",
       " '__reduce__',\n",
       " '__reduce_ex__',\n",
       " '__repr__',\n",
       " '__reversed__',\n",
       " '__rmul__',\n",
       " '__setattr__',\n",
       " '__setitem__',\n",
       " '__sizeof__',\n",
       " '__str__',\n",
       " '__subclasshook__',\n",
       " '__weakref__',\n",
       " '_item',\n",
       " 'append',\n",
       " 'clear',\n",
       " 'copy',\n",
       " 'count',\n",
       " 'extend',\n",
       " 'getitem',\n",
       " 'index',\n",
       " 'insert',\n",
       " 'pop',\n",
       " 'remove',\n",
       " 'reverse',\n",
       " 'sort']"
      ]
     },
     "execution_count": 7,
     "metadata": {},
     "output_type": "execute_result"
    }
   ],
   "source": [
    "class Circle(list):\n",
    "    def __init__(self):\n",
    "        self._item = 'ss'\n",
    "        pass\n",
    "    def getitem(self):\n",
    "        pass\n",
    "circle = Circle()\n",
    "dir(circle)"
   ]
  },
  {
   "cell_type": "markdown",
   "metadata": {},
   "source": [
    "#### type\n",
    "type函数可以对对象进行类型检查\n",
    "#### isinstance\n",
    "isinstance，返回实例与类的所属关系"
   ]
  },
  {
   "cell_type": "code",
   "execution_count": 8,
   "metadata": {},
   "outputs": [
    {
     "data": {
      "text/plain": [
       "__main__.Circle"
      ]
     },
     "execution_count": 8,
     "metadata": {},
     "output_type": "execute_result"
    }
   ],
   "source": [
    "type(circle)"
   ]
  },
  {
   "cell_type": "code",
   "execution_count": 10,
   "metadata": {},
   "outputs": [
    {
     "data": {
      "text/plain": [
       "(True, True)"
      ]
     },
     "execution_count": 10,
     "metadata": {},
     "output_type": "execute_result"
    }
   ],
   "source": [
    "isinstance(circle,Circle),isinstance(circle,list)"
   ]
  },
  {
   "cell_type": "code",
   "execution_count": 14,
   "metadata": {},
   "outputs": [
    {
     "data": {
      "text/plain": [
       "(1, 2)"
      ]
     },
     "execution_count": 14,
     "metadata": {},
     "output_type": "execute_result"
    }
   ],
   "source": [
    "def test(c,a=1,b=2):\n",
    "    pass\n",
    "test.__defaults__ #返回定位参数与关键字参数的默认值"
   ]
  },
  {
   "cell_type": "code",
   "execution_count": 16,
   "metadata": {},
   "outputs": [
    {
     "data": {
      "text/plain": [
       "('c', 'a', 'b')"
      ]
     },
     "execution_count": 16,
     "metadata": {},
     "output_type": "execute_result"
    }
   ],
   "source": [
    "test.__code__.co_varnames"
   ]
  },
  {
   "cell_type": "markdown",
   "metadata": {},
   "source": [
    "#### 🎍函数注解\n",
    "Python3提供了一种语法，用于为函数声明中的参数和返回值附加元数据。<br>\n",
    "python对注解的唯一操作是把他们存储在函数的`__annotations__`中，不做操作、不做检查、不做强制。"
   ]
  },
  {
   "cell_type": "code",
   "execution_count": 18,
   "metadata": {},
   "outputs": [],
   "source": [
    "def add(a:int,b:'int > 5'=10) -> int:\n",
    "    \"\"\"add two numbers\n",
    "    \n",
    "    \"\"\"\n",
    "    return a + b"
   ]
  },
  {
   "cell_type": "code",
   "execution_count": 19,
   "metadata": {},
   "outputs": [
    {
     "data": {
      "text/plain": [
       "{'a': int, 'b': 'int > 5', 'return': int}"
      ]
     },
     "execution_count": 19,
     "metadata": {},
     "output_type": "execute_result"
    }
   ],
   "source": [
    "add.__annotations__"
   ]
  },
  {
   "cell_type": "markdown",
   "metadata": {},
   "source": [
    "#### 反射\n",
    "与内省相比，反射的功能更加强大，它是计算机程序在运行时访问、检测、修改自身状态和行为的一种能力。<br>\n",
    "python的反射机制主要有：\n",
    "- hasattr(obj,name) 用于判断对象是否具有name属性\n",
    "- setattr(obj,k,v) 设置对象的属性\n",
    "- getattr(obj,name) 获取对象属性\n",
    "- `__import__(name[, globals[, locals[, fromlist[, level]]]])`:用于动态引入模块、属性 <br>\n",
    "文件夹中实现了一个使用反射的例子，效果是web路由功能，根据用户访问url，动态决定调用的模块及函数 <br>\n",
    "参考链接:(python的反射机制)[https://www.cnblogs.com/Guido-admirers/p/6206212.html]"
   ]
  },
  {
   "cell_type": "markdown",
   "metadata": {},
   "source": [
    "#### 支持函数式编程的包\n",
    "##### operator模块\n",
    "operator模块为多个算术运算符提供了对应函数，从而避免编写频繁的匿名函数。"
   ]
  },
  {
   "cell_type": "code",
   "execution_count": 24,
   "metadata": {},
   "outputs": [
    {
     "data": {
      "text/plain": [
       "720"
      ]
     },
     "execution_count": 24,
     "metadata": {},
     "output_type": "execute_result"
    }
   ],
   "source": [
    "from operator import mul\n",
    "from functools import reduce\n",
    "def fact(n):\n",
    "    \"\"\"阶乘\n",
    "    \"\"\"\n",
    "    return reduce(mul,range(1,n+1))\n",
    "fact(6)"
   ]
  },
  {
   "cell_type": "code",
   "execution_count": 28,
   "metadata": {},
   "outputs": [
    {
     "data": {
      "text/plain": [
       "([('NewYork', 2435352, 0),\n",
       "  ('Tokyo', 2666000, 0.01),\n",
       "  ('Beijing', 34353121, 0.1)],\n",
       " [('Beijing', 34353121, 0.1),\n",
       "  ('NewYork', 2435352, 0),\n",
       "  ('Tokyo', 2666000, 0.01)])"
      ]
     },
     "execution_count": 28,
     "metadata": {},
     "output_type": "execute_result"
    }
   ],
   "source": [
    "# 获取序列类型值\n",
    "arr = [\n",
    "    ('Tokyo',2666000,0.01),\n",
    "    ('Beijing',34353121,0.1),\n",
    "    ('NewYork',2435352,0)\n",
    "]\n",
    "from operator import itemgetter\n",
    "sorted(arr,key=itemgetter(1)),sorted(arr,key=itemgetter(0))"
   ]
  },
  {
   "cell_type": "code",
   "execution_count": 33,
   "metadata": {},
   "outputs": [],
   "source": [
    "# 返回对象指定键值\n",
    "from operator import attrgetter\n",
    "dic = {\n",
    "    'body':{\n",
    "        'top':'head',\n",
    "        'middle':'stom',\n",
    "        'bottom':('leg','feet')\n",
    "    },\n",
    "    'other':'other'\n",
    "}\n",
    "a = attrgetter('body','dic')"
   ]
  },
  {
   "cell_type": "code",
   "execution_count": 37,
   "metadata": {},
   "outputs": [
    {
     "data": {
      "text/plain": [
       "'THIS IS A TEST STRING'"
      ]
     },
     "execution_count": 37,
     "metadata": {},
     "output_type": "execute_result"
    }
   ],
   "source": [
    "# methodcaller，自行创建函数，会在对象上调用参数指定的方法\n",
    "from operator import methodcaller\n",
    "s = 'this is a test string'\n",
    "upcase = methodcaller('upper')\n",
    "upcase(s)"
   ]
  },
  {
   "cell_type": "code",
   "execution_count": 38,
   "metadata": {},
   "outputs": [
    {
     "data": {
      "text/plain": [
       "'this-is-a-test-string'"
      ]
     },
     "execution_count": 38,
     "metadata": {},
     "output_type": "execute_result"
    }
   ],
   "source": [
    "hiphenate = methodcaller('replace',' ','-')\n",
    "hiphenate(s)"
   ]
  },
  {
   "cell_type": "markdown",
   "metadata": {},
   "source": [
    "##### functools模块提供了一系列高阶函数，如reduce等\n",
    "- partial 用于部分应用于一个函数，即基于一个函数，创建一个新的可调用对象，同时将原函数的某些参数固定\n",
    "- partialmethod 与partial作用相同，只不过是应用于方法上"
   ]
  },
  {
   "cell_type": "code",
   "execution_count": 40,
   "metadata": {},
   "outputs": [
    {
     "data": {
      "text/plain": [
       "18"
      ]
     },
     "execution_count": 40,
     "metadata": {},
     "output_type": "execute_result"
    }
   ],
   "source": [
    "from functools import partial\n",
    "from operator import mul\n",
    "triple = partial(mul,3)\n",
    "triple(6)"
   ]
  },
  {
   "cell_type": "code",
   "execution_count": null,
   "metadata": {},
   "outputs": [],
   "source": []
  }
 ],
 "metadata": {
  "kernelspec": {
   "display_name": "Python 3",
   "language": "python",
   "name": "python3"
  },
  "language_info": {
   "codemirror_mode": {
    "name": "ipython",
    "version": 3
   },
   "file_extension": ".py",
   "mimetype": "text/x-python",
   "name": "python",
   "nbconvert_exporter": "python",
   "pygments_lexer": "ipython3",
   "version": "3.7.6"
  },
  "pycharm": {
   "stem_cell": {
    "cell_type": "raw",
    "metadata": {
     "collapsed": false
    },
    "source": []
   }
  }
 },
 "nbformat": 4,
 "nbformat_minor": 1
}
