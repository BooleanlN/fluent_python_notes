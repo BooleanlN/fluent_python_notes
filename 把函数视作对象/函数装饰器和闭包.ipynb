{
 "cells": [
  {
   "cell_type": "markdown",
   "metadata": {
    "collapsed": true,
    "pycharm": {
     "is_executing": false,
     "name": "#%%\n"
    }
   },
   "source": [
    "### 函数与装饰器\n",
    "#### 装饰器基础知识\n",
    "装饰器是可调用对象，其参数是另一个函数。严格的说，装饰器只是语法糖，它可以对被装饰的函数进行操作，比如进行替换等。"
   ]
  },
  {
   "cell_type": "code",
   "execution_count": 1,
   "metadata": {
    "pycharm": {
     "is_executing": false
    }
   },
   "outputs": [
    {
     "name": "stdout",
     "text": [
      "decorate func\n",
      "running target\n"
     ],
     "output_type": "stream"
    }
   ],
   "source": [
    "def decorate(func):\n",
    "    print(\"decorate func\")\n",
    "    return func\n",
    "@decorate\n",
    "def target():\n",
    "    print(\"running target\")\n",
    "target()"
   ]
  },
  {
   "cell_type": "code",
   "execution_count": null,
   "outputs": [],
   "source": [
    "# 上面的效果与下述写法一致\n",
    "def target():\n",
    "    print(\"running target\")\n",
    "target = decorate(target)\n",
    "target()"
   ],
   "metadata": {
    "collapsed": false,
    "pycharm": {
     "name": "#%%\n"
    }
   }
  },
  {
   "cell_type": "markdown",
   "source": [
    "#### python何时执行装饰器\n",
    "装饰器的一个关键特性是，它们在被装饰的函数定义以后立即运行，这通常是在导入时发生"
   ],
   "metadata": {
    "collapsed": false
   }
  },
  {
   "cell_type": "code",
   "execution_count": null,
   "outputs": [],
   "source": [
    "def decorate(func):\n",
    "    print(\"decorate func\") #导入时直接输出\n",
    "    return func\n",
    "@decorate\n",
    "def target():\n",
    "    print(\"running target\") #运行时输出\n",
    "target()"
   ],
   "metadata": {
    "collapsed": false,
    "pycharm": {
     "name": "#%%\n"
    }
   }
  },
  {
   "cell_type": "markdown",
   "source": [
    "#### 利用装饰器改进策略模式\n",
    "上一节我们在获取最佳策略时，使用的是global()方法，并根据字符名去判断，这种方式可能会因为名称的疏忽而造成策略添加的疏漏，装饰器可以对这个地方进行改进"
   ],
   "metadata": {
    "collapsed": false
   }
  },
  {
   "cell_type": "code",
   "execution_count": null,
   "outputs": [],
   "source": [
    "promos = []\n",
    "def promotion(promo_func):\n",
    "    promos.append(promo_func)\n",
    "    return promo_func\n",
    "@promotion\n",
    "def vip_promo():\n",
    "    print(\"vip\")\n",
    "@promotion\n",
    "def old_promo():\n",
    "    print(\"old\")\n",
    "@promotion\n",
    "def new_promo():\n",
    "    print(\"new\")\n",
    "promos"
   ],
   "metadata": {
    "collapsed": false,
    "pycharm": {
     "name": "#%%\n"
    }
   }
  },
  {
   "cell_type": "markdown",
   "source": [
    "#### 变量作用域规则\n",
    "python变量作用域与学过的ECMA6的作用域链很类似，变量的查找顺序：局部作用域->闭包作用域->全局作用域->内置空间作用域，逐层向上查找，直到找到为止，如果未找到，则抛出NameError<br>\n",
    " - 内置空间作用域包含了内置的关键字和函数等，如filter等。\n",
    "\n",
    " - 闭包作用域就是由闭包函数形成的作用域，这个概念和js中类似"
   ],
   "metadata": {
    "collapsed": false
   }
  },
  {
   "cell_type": "code",
   "execution_count": null,
   "outputs": [],
   "source": [
    "import builtins\n",
    "print(dir(builtins))"
   ],
   "metadata": {
    "collapsed": false,
    "pycharm": {
     "name": "#%%\n"
    }
   }
  },
  {
   "cell_type": "markdown",
   "source": [
    "#### 闭包\n",
    "闭包指延伸了作用域的函数，其中包含函数定义体中引用、但是不在定义体只能够定义的非全局变量。"
   ],
   "metadata": {
    "collapsed": false
   }
  },
  {
   "cell_type": "code",
   "execution_count": null,
   "outputs": [],
   "source": [
    "#实例\n",
    "def make_averager():\n",
    "    series = []  # 闭包作用域的自由变量\n",
    "    def averager(new_value):\n",
    "        series.append(new_value)\n",
    "        total = sum(series)\n",
    "        return total/len(series)\n",
    "    return averager\n",
    "avg = make_averager()\n",
    "for i in range(10):\n",
    "    print(avg(i))"
   ],
   "metadata": {
    "collapsed": false,
    "pycharm": {
     "name": "#%%\n"
    }
   }
  },
  {
   "cell_type": "code",
   "execution_count": null,
   "outputs": [],
   "source": [
    "avg.__code__.co_varnames #"
   ],
   "metadata": {
    "collapsed": false,
    "pycharm": {
     "name": "#%%\n"
    }
   }
  },
  {
   "cell_type": "code",
   "execution_count": null,
   "outputs": [],
   "source": [
    "avg.__code__.co_freevars #自由变量"
   ],
   "metadata": {
    "collapsed": false,
    "pycharm": {
     "name": "#%%\n"
    }
   }
  },
  {
   "cell_type": "code",
   "execution_count": null,
   "outputs": [],
   "source": [
    "avg.__closure__[0].cell_contents #闭包是一种函数，它会保留定义函数时存在的自由变量的绑定"
   ],
   "metadata": {
    "collapsed": false,
    "pycharm": {
     "name": "#%%\n"
    }
   }
  },
  {
   "cell_type": "markdown",
   "source": [
    "#### nonlocal声明\n",
    "当在闭包函数中对闭包作用域的不可变类型变量进行了更新，则会将其变为局部变量，隐式地创建了局部变量，就丢失了其闭包函数的性质，如下："
   ],
   "metadata": {
    "collapsed": false
   }
  },
  {
   "cell_type": "code",
   "execution_count": null,
   "outputs": [],
   "source": [
    "def make_averager():\n",
    "    count = 0\n",
    "    total = 0\n",
    "    def averager(new_value):\n",
    "        total += new_value\n",
    "        count += 1\n",
    "        return total/count\n",
    "    return averager\n",
    "avg = make_averager()\n",
    "for i in range(10):\n",
    "    print(avg(i))"
   ],
   "metadata": {
    "collapsed": false,
    "pycharm": {
     "name": "#%%\n"
    }
   }
  },
  {
   "cell_type": "code",
   "execution_count": null,
   "outputs": [],
   "source": [
    "avg.__code__.co_varnames,avg.__code__.co_freevars # 自由变量被覆盖成为局部变量了"
   ],
   "metadata": {
    "collapsed": false,
    "pycharm": {
     "name": "#%%\n"
    }
   }
  },
  {
   "cell_type": "markdown",
   "source": [
    "python3引入了nonlocal声明，它的作用是把变量标记为自由变量，即使在函数中为变量赋予了新值，也会变成自由变量"
   ],
   "metadata": {
    "collapsed": false
   }
  },
  {
   "cell_type": "code",
   "execution_count": null,
   "outputs": [],
   "source": [
    "def make_averager(k):\n",
    "    count = 0\n",
    "    total = 0\n",
    "    def averager(new_value):\n",
    "        nonlocal count,total,k\n",
    "        total += new_value\n",
    "        count += 1\n",
    "        return total/count\n",
    "    return averager\n",
    "avg = make_averager(1)\n",
    "for i in range(10):\n",
    "    print(avg(i))"
   ],
   "metadata": {
    "collapsed": false,
    "pycharm": {
     "name": "#%%\n"
    }
   }
  },
  {
   "cell_type": "code",
   "execution_count": null,
   "outputs": [],
   "source": [
    "##### late binding"
   ],
   "metadata": {
    "collapsed": false,
    "pycharm": {
     "name": "#%%\n"
    }
   }
  },
  {
   "cell_type": "code",
   "execution_count": null,
   "outputs": [],
   "source": [],
   "metadata": {
    "collapsed": false,
    "pycharm": {
     "name": "#%%\n"
    }
   }
  }
 ],
 "metadata": {
  "kernelspec": {
   "display_name": "Python 3",
   "language": "python",
   "name": "python3"
  },
  "language_info": {
   "codemirror_mode": {
    "name": "ipython",
    "version": 3
   },
   "file_extension": ".py",
   "mimetype": "text/x-python",
   "name": "python",
   "nbconvert_exporter": "python",
   "pygments_lexer": "ipython3",
   "version": "3.7.6"
  },
  "pycharm": {
   "stem_cell": {
    "cell_type": "raw",
    "source": [],
    "metadata": {
     "collapsed": false
    }
   }
  }
 },
 "nbformat": 4,
 "nbformat_minor": 1
}